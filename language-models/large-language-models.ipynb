{
 "cells": [
  {
   "cell_type": "code",
   "execution_count": null,
   "metadata": {},
   "outputs": [],
   "source": [
    "%pip install langchain\n",
    "%pip install openai\n",
    "%pip install tiktoken"
   ]
  },
  {
   "cell_type": "code",
   "execution_count": 3,
   "metadata": {},
   "outputs": [
    {
     "name": "stdout",
     "output_type": "stream",
     "text": [
      "Collecting python-dotenv\n",
      "  Downloading python_dotenv-1.0.0-py3-none-any.whl (19 kB)\n",
      "Installing collected packages: python-dotenv\n",
      "Successfully installed python-dotenv-1.0.0\n",
      "Note: you may need to restart the kernel to use updated packages.\n"
     ]
    }
   ],
   "source": [
    "%pip install python-dotenv"
   ]
  },
  {
   "cell_type": "code",
   "execution_count": 4,
   "metadata": {},
   "outputs": [],
   "source": [
    "import pandas as pd\n",
    "import os\n",
    "from dotenv import load_dotenv\n",
    "load_dotenv()\n",
    "os.environ[\"OPENAI_API_KEY\"] = os.getenv('OPENAI_KEY')\n",
    "os.chdir('/Users/tcoan/git_repos/ncrm-spring-school/')"
   ]
  },
  {
   "cell_type": "code",
   "execution_count": 5,
   "metadata": {},
   "outputs": [],
   "source": [
    "from langchain.llms import OpenAI\n",
    "from langchain import PromptTemplate"
   ]
  },
  {
   "cell_type": "code",
   "execution_count": 6,
   "metadata": {},
   "outputs": [],
   "source": [
    "import numpy as np\n",
    "from sklearn.metrics import precision_score, recall_score, f1_score, accuracy_score"
   ]
  },
  {
   "cell_type": "code",
   "execution_count": 12,
   "metadata": {},
   "outputs": [],
   "source": [
    "llm = OpenAI(temperature=0)"
   ]
  },
  {
   "cell_type": "code",
   "execution_count": 12,
   "metadata": {},
   "outputs": [
    {
     "name": "stdout",
     "output_type": "stream",
     "text": [
      "\n",
      "Positive\n"
     ]
    }
   ],
   "source": [
    "text = \"\"\"\n",
    "Here is an example of a movie review:\n",
    "\n",
    "The big Lebowski is the best movie ever! I've just stopped laughing.\n",
    "\n",
    "Is this a positive, negative, or neutral review?\" If you don't know, say 'unclear'.\n",
    "\"\"\"\n",
    "\n",
    "res = llm(text)\n",
    "print(res)"
   ]
  },
  {
   "cell_type": "code",
   "execution_count": 19,
   "metadata": {},
   "outputs": [],
   "source": [
    "sentiment_template = \"\"\"\n",
    "Here is an example of a movie review:\n",
    "\n",
    "{review}\n",
    "\n",
    "Is this a positive, negative, or neutral review?\" If you don't know, say 'unclear'.\n",
    "\"\"\"\n",
    "\n",
    "prompt = PromptTemplate(\n",
    "    input_variables=[\"review\"],\n",
    "    template=sentiment_template,\n",
    ")"
   ]
  },
  {
   "cell_type": "code",
   "execution_count": 2,
   "metadata": {},
   "outputs": [
    {
     "ename": "NameError",
     "evalue": "name 'prompt' is not defined",
     "output_type": "error",
     "traceback": [
      "\u001b[0;31m---------------------------------------------------------------------------\u001b[0m",
      "\u001b[0;31mNameError\u001b[0m                                 Traceback (most recent call last)",
      "\u001b[0;32m/var/folders/qp/w7lg91c56x1d7dgtj4zvkj_r0000gp/T/ipykernel_20933/1466841962.py\u001b[0m in \u001b[0;36m<module>\u001b[0;34m\u001b[0m\n\u001b[1;32m      1\u001b[0m \u001b[0mmovie_review\u001b[0m \u001b[0;34m=\u001b[0m \u001b[0;34m'I know that most people love the movie Titanic. I thought it was pretty stupid. Sappy!'\u001b[0m\u001b[0;34m\u001b[0m\u001b[0;34m\u001b[0m\u001b[0m\n\u001b[0;32m----> 2\u001b[0;31m \u001b[0mprint\u001b[0m\u001b[0;34m(\u001b[0m\u001b[0mprompt\u001b[0m\u001b[0;34m.\u001b[0m\u001b[0mformat\u001b[0m\u001b[0;34m(\u001b[0m\u001b[0mreview\u001b[0m\u001b[0;34m=\u001b[0m\u001b[0mmovie_review\u001b[0m\u001b[0;34m)\u001b[0m\u001b[0;34m)\u001b[0m\u001b[0;34m\u001b[0m\u001b[0;34m\u001b[0m\u001b[0m\n\u001b[0m",
      "\u001b[0;31mNameError\u001b[0m: name 'prompt' is not defined"
     ]
    }
   ],
   "source": [
    "movie_review = 'I know that most people love the movie Titanic. I thought it was pretty stupid. Sappy!'\n",
    "print(prompt.format(review=movie_review))"
   ]
  },
  {
   "cell_type": "code",
   "execution_count": 22,
   "metadata": {},
   "outputs": [
    {
     "name": "stdout",
     "output_type": "stream",
     "text": [
      "\n",
      "Negative\n"
     ]
    }
   ],
   "source": [
    "print(llm(prompt.format(review=movie_review)))"
   ]
  },
  {
   "cell_type": "code",
   "execution_count": 23,
   "metadata": {},
   "outputs": [],
   "source": [
    "sentiment_template = \"\"\"\n",
    "Here is an example of a movie review:\n",
    "\n",
    "{review}\n",
    "\n",
    "Is this a positive, negative, or neutral review?\" If you don't know, say 'unclear'. \\\n",
    "Return the result as a Python dictionary with the key 'sentiment'.\n",
    "\"\"\"\n",
    "\n",
    "prompt = PromptTemplate(\n",
    "    input_variables=[\"review\"],\n",
    "    template=sentiment_template,\n",
    ")"
   ]
  },
  {
   "cell_type": "code",
   "execution_count": 24,
   "metadata": {},
   "outputs": [
    {
     "name": "stdout",
     "output_type": "stream",
     "text": [
      "\n",
      "{'sentiment': 'negative'}\n"
     ]
    }
   ],
   "source": [
    "print(llm(prompt.format(review=movie_review)))"
   ]
  },
  {
   "cell_type": "code",
   "execution_count": 7,
   "metadata": {},
   "outputs": [],
   "source": [
    "sentiment_template = \"\"\"\n",
    "Here is an example of a movie review:\n",
    "\n",
    "{review}\n",
    "\n",
    "Is this a positive, negative, or neutral review?\" If you don't know, say 'unclear'. \\\n",
    "Return the result as a Python dictionary with the key 'sentiment' and return a short \\\n",
    "description of why you gave this answer to the same dictionary using the key \"reason\". \n",
    "\"\"\"\n",
    "\n",
    "prompt = PromptTemplate(\n",
    "    input_variables=[\"review\"],\n",
    "    template=sentiment_template,\n",
    ")"
   ]
  },
  {
   "cell_type": "code",
   "execution_count": 10,
   "metadata": {},
   "outputs": [],
   "source": [
    "llm = OpenAI(temperature=0)"
   ]
  },
  {
   "cell_type": "code",
   "execution_count": 11,
   "metadata": {},
   "outputs": [
    {
     "name": "stdout",
     "output_type": "stream",
     "text": [
      "\n",
      "Answer: {'sentiment': 'negative', 'reason': 'The reviewer expresses dislike for the movie.'}\n"
     ]
    }
   ],
   "source": [
    "print(llm(prompt.format(review=movie_review)))"
   ]
  },
  {
   "cell_type": "code",
   "execution_count": 35,
   "metadata": {},
   "outputs": [],
   "source": [
    "reviews = pd.read_csv('data/movie_reviews.csv').to_dict('records')"
   ]
  },
  {
   "cell_type": "code",
   "execution_count": 36,
   "metadata": {},
   "outputs": [
    {
     "name": "stdout",
     "output_type": "stream",
     "text": [
      "500\n"
     ]
    }
   ],
   "source": [
    "reviews_unlabeled = reviews[1500:]\n",
    "print(len(reviews_unlabeled))"
   ]
  },
  {
   "cell_type": "code",
   "execution_count": 20,
   "metadata": {},
   "outputs": [],
   "source": [
    "results = []\n",
    "for row in reviews_unlabeled:\n",
    "    results.append(llm(prompt.format(review=row['text'])))"
   ]
  },
  {
   "cell_type": "code",
   "execution_count": 108,
   "metadata": {},
   "outputs": [],
   "source": [
    "positive = []\n",
    "for result in results:\n",
    "    if 'positive' in result[0:25]:\n",
    "        positive.append(1)\n",
    "    else:\n",
    "        positive.append(0)\n"
   ]
  },
  {
   "cell_type": "code",
   "execution_count": 111,
   "metadata": {},
   "outputs": [],
   "source": [
    "y = np.array([row['positive'] for row in reviews_unlabeled])\n",
    "y_pred = np.array(positive)"
   ]
  },
  {
   "cell_type": "code",
   "execution_count": 112,
   "metadata": {},
   "outputs": [
    {
     "data": {
      "text/plain": [
       "0.868"
      ]
     },
     "execution_count": 112,
     "metadata": {},
     "output_type": "execute_result"
    }
   ],
   "source": [
    "accuracy_score(y, y_pred)"
   ]
  },
  {
   "cell_type": "code",
   "execution_count": 7,
   "metadata": {},
   "outputs": [],
   "source": [
    "from langchain.chat_models import ChatOpenAI\n",
    "from langchain import PromptTemplate, LLMChain\n",
    "from langchain.prompts.chat import (\n",
    "    ChatPromptTemplate,\n",
    "    SystemMessagePromptTemplate,\n",
    "    AIMessagePromptTemplate,\n",
    "    HumanMessagePromptTemplate,\n",
    ")\n",
    "from langchain.schema import (\n",
    "    AIMessage,\n",
    "    HumanMessage,\n",
    "    SystemMessage\n",
    ")"
   ]
  },
  {
   "cell_type": "code",
   "execution_count": 8,
   "metadata": {},
   "outputs": [],
   "source": [
    "# chat mode instance\n",
    "chat = ChatOpenAI(temperature=0)"
   ]
  },
  {
   "cell_type": "code",
   "execution_count": 23,
   "metadata": {},
   "outputs": [],
   "source": [
    "movie_review = 'I know that most people love the movie Titanic. I thought it was pretty stupid. Sappy!'\n",
    "messages = [\n",
    "    SystemMessage(content=\"You are a helpful assistant that can classify the sentiment of movie review texts. The labels you can use are positive, negative and neutral.\"),\n",
    "    HumanMessage(content=f\"Provide a one word label for the following review: {movie_review}\\n\\nAlso provide a short justification for your label. Seperate the label and justification using a | character.\"),\n",
    "]\n",
    "\n",
    "response = chat(messages)"
   ]
  },
  {
   "cell_type": "code",
   "execution_count": 24,
   "metadata": {},
   "outputs": [
    {
     "data": {
      "text/plain": [
       "AIMessage(content='Negative | The reviewer expresses a negative opinion about the movie Titanic, calling it \"stupid\" and \"sappy\".', additional_kwargs={})"
      ]
     },
     "execution_count": 24,
     "metadata": {},
     "output_type": "execute_result"
    }
   ],
   "source": [
    "response"
   ]
  },
  {
   "cell_type": "code",
   "execution_count": 26,
   "metadata": {},
   "outputs": [
    {
     "data": {
      "text/plain": [
       "'Negative | The reviewer expresses a negative opinion about the movie Titanic, calling it \"stupid\" and \"sappy\".'"
      ]
     },
     "execution_count": 26,
     "metadata": {},
     "output_type": "execute_result"
    }
   ],
   "source": [
    "response.content"
   ]
  },
  {
   "cell_type": "code",
   "execution_count": 33,
   "metadata": {},
   "outputs": [],
   "source": [
    "def send_chat_request(movie_review):\n",
    "    messages = [\n",
    "        SystemMessage(content=\"You are a helpful assistant that can classify the sentiment of movie review texts. The labels you can use are positive, negative and neutral.\"),\n",
    "        HumanMessage(content=f\"Provide a one word label with no punctuation for the following review: {movie_review}\"),\n",
    "    ]\n",
    "    return chat(messages)"
   ]
  },
  {
   "cell_type": "code",
   "execution_count": 37,
   "metadata": {},
   "outputs": [
    {
     "name": "stdout",
     "output_type": "stream",
     "text": [
      "Finished iteration 0\n",
      "Finished iteration 1\n",
      "Finished iteration 2\n",
      "Finished iteration 3\n",
      "Finished iteration 4\n",
      "Finished iteration 5\n",
      "Finished iteration 6\n",
      "Finished iteration 7\n",
      "Finished iteration 8\n",
      "Finished iteration 9\n",
      "Finished iteration 10\n",
      "Finished iteration 11\n",
      "Finished iteration 12\n",
      "Finished iteration 13\n",
      "Finished iteration 14\n",
      "Finished iteration 15\n",
      "Finished iteration 16\n",
      "Finished iteration 17\n",
      "Finished iteration 18\n",
      "Finished iteration 19\n",
      "Finished iteration 20\n",
      "Finished iteration 21\n",
      "Finished iteration 22\n",
      "Finished iteration 23\n",
      "Finished iteration 24\n",
      "Finished iteration 25\n",
      "Finished iteration 26\n",
      "Finished iteration 27\n",
      "Finished iteration 28\n",
      "Finished iteration 29\n",
      "Finished iteration 30\n",
      "Finished iteration 31\n",
      "Finished iteration 32\n",
      "Finished iteration 33\n",
      "Finished iteration 34\n",
      "Finished iteration 35\n",
      "Finished iteration 36\n",
      "Finished iteration 37\n",
      "Finished iteration 38\n",
      "Finished iteration 39\n",
      "Finished iteration 40\n",
      "Finished iteration 41\n",
      "Finished iteration 42\n",
      "Finished iteration 43\n",
      "Finished iteration 44\n",
      "Finished iteration 45\n",
      "Finished iteration 46\n",
      "Finished iteration 47\n",
      "Finished iteration 48\n",
      "Finished iteration 49\n",
      "Finished iteration 50\n",
      "Finished iteration 51\n",
      "Finished iteration 52\n",
      "Finished iteration 53\n",
      "Finished iteration 54\n",
      "Finished iteration 55\n",
      "Finished iteration 56\n",
      "Finished iteration 57\n",
      "Finished iteration 58\n",
      "Finished iteration 59\n",
      "Finished iteration 60\n",
      "Finished iteration 61\n",
      "Finished iteration 62\n",
      "Finished iteration 63\n",
      "Finished iteration 64\n",
      "Finished iteration 65\n",
      "Finished iteration 66\n",
      "Finished iteration 67\n",
      "Finished iteration 68\n",
      "Finished iteration 69\n",
      "Finished iteration 70\n",
      "Finished iteration 71\n",
      "Finished iteration 72\n",
      "Finished iteration 73\n",
      "Finished iteration 74\n",
      "Finished iteration 75\n",
      "Finished iteration 76\n",
      "Finished iteration 77\n",
      "Finished iteration 78\n",
      "Finished iteration 79\n",
      "Finished iteration 80\n",
      "Finished iteration 81\n",
      "Finished iteration 82\n",
      "Finished iteration 83\n",
      "Finished iteration 84\n",
      "Finished iteration 85\n",
      "Finished iteration 86\n",
      "Finished iteration 87\n",
      "Finished iteration 88\n",
      "Finished iteration 89\n",
      "Finished iteration 90\n",
      "Finished iteration 91\n",
      "Finished iteration 92\n",
      "Finished iteration 93\n",
      "Finished iteration 94\n",
      "Finished iteration 95\n",
      "Finished iteration 96\n",
      "Finished iteration 97\n",
      "Finished iteration 98\n",
      "Finished iteration 99\n",
      "Finished iteration 100\n",
      "Finished iteration 101\n",
      "Finished iteration 102\n",
      "Finished iteration 103\n",
      "Finished iteration 104\n",
      "Finished iteration 105\n",
      "Finished iteration 106\n",
      "Finished iteration 107\n",
      "Finished iteration 108\n",
      "Finished iteration 109\n",
      "Finished iteration 110\n",
      "Finished iteration 111\n",
      "Finished iteration 112\n",
      "Finished iteration 113\n",
      "Finished iteration 114\n",
      "Finished iteration 115\n",
      "Finished iteration 116\n",
      "Finished iteration 117\n",
      "Finished iteration 118\n",
      "Finished iteration 119\n",
      "Finished iteration 120\n",
      "Finished iteration 121\n",
      "Finished iteration 122\n",
      "Finished iteration 123\n",
      "Finished iteration 124\n",
      "Finished iteration 125\n",
      "Finished iteration 126\n",
      "Finished iteration 127\n",
      "Finished iteration 128\n",
      "Finished iteration 129\n",
      "Finished iteration 130\n",
      "Finished iteration 131\n",
      "Finished iteration 132\n",
      "Finished iteration 133\n",
      "Finished iteration 134\n",
      "Finished iteration 135\n",
      "Finished iteration 136\n",
      "Finished iteration 137\n",
      "Finished iteration 138\n",
      "Finished iteration 139\n",
      "Finished iteration 140\n",
      "Finished iteration 141\n",
      "Finished iteration 142\n",
      "Finished iteration 143\n",
      "Finished iteration 144\n",
      "Finished iteration 145\n",
      "Finished iteration 146\n",
      "Finished iteration 147\n",
      "Finished iteration 148\n",
      "Finished iteration 149\n",
      "Finished iteration 150\n",
      "Finished iteration 151\n",
      "Finished iteration 152\n",
      "Finished iteration 153\n",
      "Finished iteration 154\n",
      "Finished iteration 155\n",
      "Finished iteration 156\n",
      "Finished iteration 157\n",
      "Finished iteration 158\n",
      "Finished iteration 159\n",
      "Finished iteration 160\n",
      "Finished iteration 161\n",
      "Finished iteration 162\n",
      "Finished iteration 163\n",
      "Finished iteration 164\n",
      "Finished iteration 165\n",
      "Finished iteration 166\n",
      "Finished iteration 167\n",
      "Finished iteration 168\n",
      "Finished iteration 169\n",
      "Finished iteration 170\n",
      "Finished iteration 171\n",
      "Finished iteration 172\n",
      "Finished iteration 173\n",
      "Finished iteration 174\n",
      "Finished iteration 175\n",
      "Finished iteration 176\n",
      "Finished iteration 177\n",
      "Finished iteration 178\n",
      "Finished iteration 179\n",
      "Finished iteration 180\n",
      "Finished iteration 181\n",
      "Finished iteration 182\n",
      "Finished iteration 183\n",
      "Finished iteration 184\n",
      "Finished iteration 185\n",
      "Finished iteration 186\n",
      "Finished iteration 187\n",
      "Finished iteration 188\n",
      "Finished iteration 189\n",
      "Finished iteration 190\n",
      "Finished iteration 191\n",
      "Finished iteration 192\n",
      "Finished iteration 193\n",
      "Finished iteration 194\n",
      "Finished iteration 195\n",
      "Finished iteration 196\n",
      "Finished iteration 197\n",
      "Finished iteration 198\n",
      "Finished iteration 199\n",
      "Finished iteration 200\n",
      "Finished iteration 201\n",
      "Finished iteration 202\n",
      "Finished iteration 203\n",
      "Finished iteration 204\n",
      "Finished iteration 205\n",
      "Finished iteration 206\n",
      "Finished iteration 207\n",
      "Finished iteration 208\n",
      "Finished iteration 209\n",
      "Finished iteration 210\n",
      "Finished iteration 211\n",
      "Finished iteration 212\n",
      "Finished iteration 213\n",
      "Finished iteration 214\n",
      "Finished iteration 215\n",
      "Finished iteration 216\n",
      "Finished iteration 217\n",
      "Finished iteration 218\n",
      "Finished iteration 219\n",
      "Finished iteration 220\n",
      "Finished iteration 221\n",
      "Finished iteration 222\n",
      "Finished iteration 223\n",
      "Finished iteration 224\n",
      "Finished iteration 225\n",
      "Finished iteration 226\n",
      "Finished iteration 227\n",
      "Finished iteration 228\n",
      "Finished iteration 229\n",
      "Finished iteration 230\n",
      "Finished iteration 231\n",
      "Finished iteration 232\n",
      "Finished iteration 233\n",
      "Finished iteration 234\n",
      "Finished iteration 235\n",
      "Finished iteration 236\n",
      "Finished iteration 237\n",
      "Finished iteration 238\n",
      "Finished iteration 239\n",
      "Finished iteration 240\n",
      "Finished iteration 241\n",
      "Finished iteration 242\n",
      "Finished iteration 243\n",
      "Finished iteration 244\n",
      "Finished iteration 245\n",
      "Finished iteration 246\n",
      "Finished iteration 247\n",
      "Finished iteration 248\n",
      "Finished iteration 249\n",
      "Finished iteration 250\n",
      "Finished iteration 251\n",
      "Finished iteration 252\n",
      "Finished iteration 253\n",
      "Finished iteration 254\n",
      "Finished iteration 255\n",
      "Finished iteration 256\n",
      "Finished iteration 257\n",
      "Finished iteration 258\n",
      "Finished iteration 259\n",
      "Finished iteration 260\n",
      "Finished iteration 261\n",
      "Finished iteration 262\n",
      "Finished iteration 263\n",
      "Finished iteration 264\n",
      "Finished iteration 265\n",
      "Finished iteration 266\n",
      "Finished iteration 267\n",
      "Finished iteration 268\n",
      "Finished iteration 269\n",
      "Finished iteration 270\n",
      "Finished iteration 271\n",
      "Finished iteration 272\n",
      "Finished iteration 273\n",
      "Finished iteration 274\n",
      "Finished iteration 275\n",
      "Finished iteration 276\n",
      "Finished iteration 277\n",
      "Finished iteration 278\n",
      "Finished iteration 279\n",
      "Finished iteration 280\n",
      "Finished iteration 281\n",
      "Finished iteration 282\n",
      "Finished iteration 283\n",
      "Finished iteration 284\n",
      "Finished iteration 285\n",
      "Finished iteration 286\n",
      "Finished iteration 287\n",
      "Finished iteration 288\n",
      "Finished iteration 289\n",
      "Finished iteration 290\n",
      "Finished iteration 291\n",
      "Finished iteration 292\n",
      "Finished iteration 293\n",
      "Finished iteration 294\n",
      "Finished iteration 295\n",
      "Finished iteration 296\n",
      "Finished iteration 297\n",
      "Finished iteration 298\n",
      "Finished iteration 299\n",
      "Finished iteration 300\n",
      "Finished iteration 301\n",
      "Finished iteration 302\n",
      "Finished iteration 303\n",
      "Finished iteration 304\n",
      "Finished iteration 305\n",
      "Finished iteration 306\n",
      "Finished iteration 307\n",
      "Finished iteration 308\n",
      "Finished iteration 309\n",
      "Finished iteration 310\n",
      "Finished iteration 311\n",
      "Finished iteration 312\n",
      "Finished iteration 313\n",
      "Finished iteration 314\n",
      "Finished iteration 315\n",
      "Finished iteration 316\n",
      "Finished iteration 317\n",
      "Finished iteration 318\n",
      "Finished iteration 319\n",
      "Finished iteration 320\n",
      "Finished iteration 321\n",
      "Finished iteration 322\n",
      "Finished iteration 323\n",
      "Finished iteration 324\n",
      "Finished iteration 325\n",
      "Finished iteration 326\n",
      "Finished iteration 327\n",
      "Finished iteration 328\n",
      "Finished iteration 329\n",
      "Finished iteration 330\n",
      "Finished iteration 331\n",
      "Finished iteration 332\n",
      "Finished iteration 333\n",
      "Finished iteration 334\n",
      "Finished iteration 335\n",
      "Finished iteration 336\n",
      "Finished iteration 337\n",
      "Finished iteration 338\n",
      "Finished iteration 339\n",
      "Finished iteration 340\n",
      "Finished iteration 341\n",
      "Finished iteration 342\n",
      "Finished iteration 343\n",
      "Finished iteration 344\n",
      "Finished iteration 345\n",
      "Finished iteration 346\n",
      "Finished iteration 347\n",
      "Finished iteration 348\n",
      "Finished iteration 349\n",
      "Finished iteration 350\n",
      "Finished iteration 351\n",
      "Finished iteration 352\n",
      "Finished iteration 353\n",
      "Finished iteration 354\n",
      "Finished iteration 355\n",
      "Finished iteration 356\n",
      "Finished iteration 357\n",
      "Finished iteration 358\n",
      "Finished iteration 359\n",
      "Finished iteration 360\n",
      "Finished iteration 361\n",
      "Finished iteration 362\n",
      "Finished iteration 363\n",
      "Finished iteration 364\n",
      "Finished iteration 365\n",
      "Finished iteration 366\n",
      "Finished iteration 367\n",
      "Finished iteration 368\n",
      "Finished iteration 369\n",
      "Finished iteration 370\n",
      "Finished iteration 371\n",
      "Finished iteration 372\n",
      "Finished iteration 373\n",
      "Finished iteration 374\n",
      "Finished iteration 375\n",
      "Finished iteration 376\n",
      "Finished iteration 377\n",
      "Finished iteration 378\n",
      "Finished iteration 379\n",
      "Finished iteration 380\n",
      "Finished iteration 381\n",
      "Finished iteration 382\n",
      "Finished iteration 383\n",
      "Finished iteration 384\n",
      "Finished iteration 385\n",
      "Finished iteration 386\n",
      "Finished iteration 387\n",
      "Finished iteration 388\n",
      "Finished iteration 389\n",
      "Finished iteration 390\n",
      "Finished iteration 391\n",
      "Finished iteration 392\n",
      "Finished iteration 393\n",
      "Finished iteration 394\n",
      "Finished iteration 395\n",
      "Finished iteration 396\n",
      "Finished iteration 397\n",
      "Finished iteration 398\n",
      "Finished iteration 399\n",
      "Finished iteration 400\n",
      "Finished iteration 401\n",
      "Finished iteration 402\n",
      "Finished iteration 403\n",
      "Finished iteration 404\n",
      "Finished iteration 405\n",
      "Finished iteration 406\n",
      "Finished iteration 407\n",
      "Finished iteration 408\n",
      "Finished iteration 409\n",
      "Finished iteration 410\n",
      "Finished iteration 411\n",
      "Finished iteration 412\n",
      "Finished iteration 413\n",
      "Finished iteration 414\n",
      "Finished iteration 415\n",
      "Finished iteration 416\n",
      "Finished iteration 417\n",
      "Finished iteration 418\n",
      "Finished iteration 419\n",
      "Finished iteration 420\n",
      "Finished iteration 421\n",
      "Finished iteration 422\n",
      "Finished iteration 423\n",
      "Finished iteration 424\n",
      "Finished iteration 425\n",
      "Finished iteration 426\n",
      "Finished iteration 427\n",
      "Finished iteration 428\n",
      "Finished iteration 429\n",
      "Finished iteration 430\n",
      "Finished iteration 431\n",
      "Finished iteration 432\n",
      "Finished iteration 433\n",
      "Finished iteration 434\n",
      "Finished iteration 435\n",
      "Finished iteration 436\n",
      "Finished iteration 437\n",
      "Finished iteration 438\n",
      "Finished iteration 439\n",
      "Finished iteration 440\n",
      "Finished iteration 441\n",
      "Finished iteration 442\n",
      "Finished iteration 443\n",
      "Finished iteration 444\n",
      "Finished iteration 445\n",
      "Finished iteration 446\n",
      "Finished iteration 447\n",
      "Finished iteration 448\n",
      "Finished iteration 449\n",
      "Finished iteration 450\n",
      "Finished iteration 451\n",
      "Finished iteration 452\n",
      "Finished iteration 453\n",
      "Finished iteration 454\n",
      "Finished iteration 455\n",
      "Finished iteration 456\n",
      "Finished iteration 457\n",
      "Finished iteration 458\n",
      "Finished iteration 459\n",
      "Finished iteration 460\n",
      "Finished iteration 461\n",
      "Finished iteration 462\n",
      "Finished iteration 463\n",
      "Finished iteration 464\n",
      "Finished iteration 465\n",
      "Finished iteration 466\n",
      "Finished iteration 467\n",
      "Finished iteration 468\n",
      "Finished iteration 469\n",
      "Finished iteration 470\n",
      "Finished iteration 471\n",
      "Finished iteration 472\n",
      "Finished iteration 473\n",
      "Finished iteration 474\n",
      "Finished iteration 475\n",
      "Finished iteration 476\n",
      "Finished iteration 477\n",
      "Finished iteration 478\n",
      "Finished iteration 479\n",
      "Finished iteration 480\n",
      "Finished iteration 481\n",
      "Finished iteration 482\n",
      "Finished iteration 483\n",
      "Finished iteration 484\n",
      "Finished iteration 485\n",
      "Finished iteration 486\n",
      "Finished iteration 487\n",
      "Finished iteration 488\n",
      "Finished iteration 489\n",
      "Finished iteration 490\n",
      "Finished iteration 491\n",
      "Finished iteration 492\n",
      "Finished iteration 493\n",
      "Finished iteration 494\n",
      "Finished iteration 495\n",
      "Finished iteration 496\n",
      "Finished iteration 497\n",
      "Finished iteration 498\n",
      "Finished iteration 499\n"
     ]
    }
   ],
   "source": [
    "results_chat = []\n",
    "for i,row in enumerate(reviews_unlabeled):\n",
    "    response = send_chat_request(row['text'])\n",
    "    results_chat.append(response.content)\n",
    "    print(f'Finished iteration {i}')"
   ]
  },
  {
   "cell_type": "code",
   "execution_count": 41,
   "metadata": {},
   "outputs": [],
   "source": [
    "positive = []\n",
    "for row in results_chat:\n",
    "    if 'Positive' in row:\n",
    "        positive.append(1)\n",
    "    else:\n",
    "        positive.append(0)"
   ]
  },
  {
   "cell_type": "code",
   "execution_count": 39,
   "metadata": {},
   "outputs": [
    {
     "data": {
      "text/plain": [
       "'Positive'"
      ]
     },
     "execution_count": 39,
     "metadata": {},
     "output_type": "execute_result"
    }
   ],
   "source": [
    "results_chat[0]"
   ]
  },
  {
   "cell_type": "code",
   "execution_count": 40,
   "metadata": {},
   "outputs": [
    {
     "data": {
      "text/plain": [
       "Negative.    193\n",
       "Positive     114\n",
       "Negative      73\n",
       "Positive.     73\n",
       "Neutral.      24\n",
       "Neutral       23\n",
       "dtype: int64"
      ]
     },
     "execution_count": 40,
     "metadata": {},
     "output_type": "execute_result"
    }
   ],
   "source": [
    "pd.DataFrame(results_chat).value_counts()"
   ]
  },
  {
   "cell_type": "code",
   "execution_count": 42,
   "metadata": {},
   "outputs": [],
   "source": [
    "y = np.array([row['positive'] for row in reviews_unlabeled])\n",
    "y_pred = np.array(positive)"
   ]
  },
  {
   "cell_type": "code",
   "execution_count": 43,
   "metadata": {},
   "outputs": [
    {
     "data": {
      "text/plain": [
       "0.862"
      ]
     },
     "execution_count": 43,
     "metadata": {},
     "output_type": "execute_result"
    }
   ],
   "source": [
    "accuracy_score(y, y_pred)"
   ]
  },
  {
   "cell_type": "code",
   "execution_count": 54,
   "metadata": {},
   "outputs": [],
   "source": [
    "from langchain import OpenAI, PromptTemplate, LLMChain\n",
    "from langchain.text_splitter import CharacterTextSplitter\n",
    "from langchain.chains.mapreduce import MapReduceChain\n",
    "from langchain.prompts import PromptTemplate\n",
    "\n",
    "chat = ChatOpenAI(temperature=0)\n",
    "from langchain.chains.summarize import load_summarize_chain\n",
    "text_splitter = CharacterTextSplitter()\n",
    "from langchain.docstore.document import Document"
   ]
  },
  {
   "cell_type": "code",
   "execution_count": 52,
   "metadata": {},
   "outputs": [],
   "source": [
    "texts = text_splitter.split_text(reviews[0]['text'])"
   ]
  },
  {
   "cell_type": "code",
   "execution_count": 55,
   "metadata": {},
   "outputs": [],
   "source": [
    "docs = [Document(page_content=t) for t in texts]"
   ]
  },
  {
   "cell_type": "code",
   "execution_count": 58,
   "metadata": {},
   "outputs": [
    {
     "data": {
      "text/plain": [
       "[Document(page_content='plot : two teen couples go to a church party , drink and then drive . \\nthey get into an accident . \\none of the guys dies , but his girlfriend continues to see him in her life , and has nightmares . \\nwhat\\'s the deal ? \\nwatch the movie and \" sorta \" find out . . . \\ncritique : a mind-fuck movie for the teen generation that touches on a very cool idea , but presents it in a very bad package . \\nwhich is what makes this review an even harder one to write , since i generally applaud films which attempt to break the mold , mess with your head and such ( lost highway & memento ) , but there are good and bad ways of making all types of films , and these folks just didn\\'t snag this one correctly . \\nthey seem to have taken this pretty neat concept , but executed it terribly . \\nso what are the problems with the movie ? \\nwell , its main problem is that it\\'s simply too jumbled . \\nit starts off \" normal \" but then downshifts into this \" fantasy \" world in which you , as an audience member , have no idea what\\'s going on . \\nthere are dreams , there are characters coming back from the dead , there are others who look like the dead , there are strange apparitions , there are disappearances , there are a looooot of chase scenes , there are tons of weird things that happen , and most of it is simply not explained . \\nnow i personally don\\'t mind trying to unravel a film every now and then , but when all it does is give me the same clue over and over again , i get kind of fed up after a while , which is this film\\'s biggest problem . \\nit\\'s obviously got this big secret to hide , but it seems to want to hide it completely until its final five minutes . \\nand do they make things entertaining , thrilling or even engaging , in the meantime ? \\nnot really . \\nthe sad part is that the arrow and i both dig on flicks like this , so we actually figured most of it out by the half-way point , so all of the strangeness after that did start to make a little bit of sense , but it still didn\\'t the make the film all that more entertaining . \\ni guess the bottom line with movies like this is that you should always make sure that the audience is \" into it \" even before they are given the secret password to enter your world of understanding . \\ni mean , showing melissa sagemiller running away from visions for about 20 minutes throughout the movie is just plain lazy ! ! \\nokay , we get it . . . there \\nare people chasing her and we don\\'t know who they are . \\ndo we really need to see it over and over again ? \\nhow about giving us different scenes offering further insight into all of the strangeness going down in the movie ? \\napparently , the studio took this film away from its director and chopped it up themselves , and it shows . \\nthere might\\'ve been a pretty decent teen mind-fuck movie in here somewhere , but i guess \" the suits \" decided that turning it into a music video with little edge , would make more sense . \\nthe actors are pretty good for the most part , although wes bentley just seemed to be playing the exact same character that he did in american beauty , only in a new neighborhood . \\nbut my biggest kudos go out to sagemiller , who holds her own throughout the entire film , and actually has you feeling her character\\'s unraveling . \\noverall , the film doesn\\'t stick because it doesn\\'t entertain , it\\'s confusing , it rarely excites and it feels pretty redundant for most of its runtime , despite a pretty cool ending and explanation to all of the craziness that came before it . \\noh , and by the way , this is not a horror or teen slasher flick . . . it\\'s \\njust packaged to look that way because someone is apparently assuming that the genre is still hot with the kids . \\nit also wrapped production two years ago and has been sitting on the shelves ever since . \\nwhatever . . . skip \\nit ! \\nwhere\\'s joblo coming from ? \\na nightmare of elm street 3 ( 7/10 ) - blair witch 2 ( 7/10 ) - the crow ( 9/10 ) - the crow : salvation ( 4/10 ) - lost highway ( 10/10 ) - memento ( 10/10 ) - the others ( 9/10 ) - stir of echoes ( 8/10 )', metadata={})]"
      ]
     },
     "execution_count": 58,
     "metadata": {},
     "output_type": "execute_result"
    }
   ],
   "source": [
    "docs"
   ]
  },
  {
   "cell_type": "code",
   "execution_count": 59,
   "metadata": {},
   "outputs": [
    {
     "data": {
      "text/plain": [
       "'The movie is about two teen couples who drink and drive, resulting in an accident where one of the guys dies. The film fails to execute its cool idea properly, resulting in a confusing and jumbled plot. The actors are good, but the film lacks entertainment value and feels redundant. The reviewer suggests skipping it.'"
      ]
     },
     "execution_count": 59,
     "metadata": {},
     "output_type": "execute_result"
    }
   ],
   "source": [
    "chain = load_summarize_chain(chat, chain_type=\"map_reduce\")\n",
    "chain.run(docs)"
   ]
  },
  {
   "cell_type": "code",
   "execution_count": 57,
   "metadata": {},
   "outputs": [
    {
     "name": "stdout",
     "output_type": "stream",
     "text": [
      "Collecting tiktoken\n",
      "  Downloading tiktoken-0.3.3-cp39-cp39-macosx_10_9_x86_64.whl (736 kB)\n",
      "\u001b[2K     \u001b[90m━━━━━━━━━━━━━━━━━━━━━━━━━━━━━━━━━━━━━━━\u001b[0m \u001b[32m736.3/736.3 kB\u001b[0m \u001b[31m5.9 MB/s\u001b[0m eta \u001b[36m0:00:00\u001b[0m00:01\u001b[0m00:01\u001b[0m\n",
      "\u001b[?25hRequirement already satisfied: requests>=2.26.0 in /Users/tcoan/opt/anaconda3/lib/python3.9/site-packages (from tiktoken) (2.28.1)\n",
      "Requirement already satisfied: regex>=2022.1.18 in /Users/tcoan/opt/anaconda3/lib/python3.9/site-packages (from tiktoken) (2022.7.9)\n",
      "Requirement already satisfied: idna<4,>=2.5 in /Users/tcoan/opt/anaconda3/lib/python3.9/site-packages (from requests>=2.26.0->tiktoken) (3.3)\n",
      "Requirement already satisfied: certifi>=2017.4.17 in /Users/tcoan/opt/anaconda3/lib/python3.9/site-packages (from requests>=2.26.0->tiktoken) (2022.9.24)\n",
      "Requirement already satisfied: urllib3<1.27,>=1.21.1 in /Users/tcoan/opt/anaconda3/lib/python3.9/site-packages (from requests>=2.26.0->tiktoken) (1.26.11)\n",
      "Requirement already satisfied: charset-normalizer<3,>=2 in /Users/tcoan/opt/anaconda3/lib/python3.9/site-packages (from requests>=2.26.0->tiktoken) (2.0.4)\n",
      "Installing collected packages: tiktoken\n",
      "Successfully installed tiktoken-0.3.3\n"
     ]
    }
   ],
   "source": [
    "docs"
   ]
  },
  {
   "cell_type": "code",
   "execution_count": null,
   "metadata": {},
   "outputs": [],
   "source": []
  }
 ],
 "metadata": {
  "kernelspec": {
   "display_name": "base",
   "language": "python",
   "name": "python3"
  },
  "language_info": {
   "codemirror_mode": {
    "name": "ipython",
    "version": 3
   },
   "file_extension": ".py",
   "mimetype": "text/x-python",
   "name": "python",
   "nbconvert_exporter": "python",
   "pygments_lexer": "ipython3",
   "version": "3.9.13"
  },
  "orig_nbformat": 4,
  "vscode": {
   "interpreter": {
    "hash": "0db7a017d97a45ffea759374b98e80b051fa13973580c065a6b8f6e28c7ab80d"
   }
  }
 },
 "nbformat": 4,
 "nbformat_minor": 2
}
