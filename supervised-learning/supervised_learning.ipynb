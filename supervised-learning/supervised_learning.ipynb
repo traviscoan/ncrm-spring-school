{
 "cells": [
  {
   "cell_type": "markdown",
   "metadata": {},
   "source": [
    "# Supervised learning: the standard pipeline\n",
    "\n",
    "This notebook introduces **supervised learning** in Python. As described more fully in lecture, \"supervised\" learning represents a set of algorithms that classify items (e.g., a document, paragraph, or sentence) into predefined labels (or classes) based on human-annotated \"training\" data.\n",
    "\n",
    "We will outline a general **pipeline** that you can follow when working with supervised text classification. The pipeline includes:\n",
    "\n",
    "1. Collecting training data\n",
    "2. Text preprocessing and normalization\n",
    "3. Feature extraction\n",
    "4. Model estimation and selection (and parameter tuning)\n",
    "5. Final model estimation and reporting performance\n",
    "\n",
    "This notebook covers items 2-5 in Python and `sklearn`. Before getting started, let's load the necessary libraries:"
   ]
  },
  {
   "cell_type": "code",
   "execution_count": 1,
   "metadata": {},
   "outputs": [],
   "source": [
    "import os\n",
    "os.chdir('/Users/tcoan/git_repos/ncrm-spring-school')\n",
    "\n",
    "import pandas as pd # Use to read data\n",
    "import numpy as np  # Numpy is used in various places\n",
    "\n",
    "# Tokenization, stopword removal, and lemmatization\n",
    "from nltk.tokenize import word_tokenize\n",
    "from nltk.corpus import stopwords\n",
    "\n",
    "# Vectorization\n",
    "from sklearn.feature_extraction.text import CountVectorizer\n",
    "from sklearn.feature_extraction.text import TfidfVectorizer\n",
    "\n",
    "# Load classifiers\n",
    "from sklearn.naive_bayes import MultinomialNB\n",
    "from sklearn.svm import LinearSVC\n",
    "from sklearn.svm import SVC\n",
    "\n",
    "# Load functions for model selection and performance\n",
    "from sklearn.model_selection import train_test_split\n",
    "from sklearn.model_selection import KFold, StratifiedKFold\n",
    "from sklearn.metrics import precision_score, recall_score, f1_score, accuracy_score\n",
    "from sklearn.model_selection import GridSearchCV"
   ]
  },
  {
   "cell_type": "markdown",
   "metadata": {},
   "source": [
    "## Collecting data\n",
    "\n",
    "There are a number of different ways to collect training data. In the social sciences, we tend to use the standard operating procedure of quantitative content analysis:\n",
    "\n",
    "1. Construct **coding guidelines** to code into documents into substantively meaningful classes based on relevant theory.\n",
    "2. Train coders on a small, random sample of documents, **calculate reliability**, and discuss disagreements. **Repeat** this process until reliability is sufficiently high}.\n",
    "3. Code the remaining documents in the training set. Ideally, you would have multiple coders per document; however, it is common to have a single coder after the training phase.\n",
    "\n",
    "See <a href=\"https://www.amazon.co.uk/Content-Analysis-Introduction-Its-Methodology/dp/1412983150\">Krippendorff's (2013) classic book</a> for a detailed introduction. More recently, researchers have been using crowd-sourcing to annotate documents. For a detailed introduction to this approach, see <a href=\"http://kenbenoit.net/pdfs/Crowd_sourced_data_coding_APSR.pdf\">Benoit et al. (2016)</a>.\n",
    "\n",
    "### Movie reviews\n",
    "\n",
    "We will use the well-known \"move review\" data from [Pang and Lee's (2004)](http://www.cs.cornell.edu/people/pabo/movie-review-data/) article on using supervised methods for sentiment analysis. This is the same data that we used for lexicon-based sentiment analysis several weeks ago. To refresh, the data has the following fields:\n",
    "\n",
    "* **id**: A unique ID for each movie review.\n",
    "* **class**: An integer equal to 1 if the review is positive and 0 if negative.\n",
    "* **text**: The text content of each review (already converted to lowercase).\n",
    "\n",
    "We can load the data in the usual way:"
   ]
  },
  {
   "cell_type": "code",
   "execution_count": 2,
   "metadata": {},
   "outputs": [],
   "source": [
    "reviews_df = pd.read_csv('data/movie_reviews.csv')\n",
    "\n",
    "# Convert to a list of dicts!\n",
    "reviews = reviews_df.to_dict('records')"
   ]
  },
  {
   "cell_type": "markdown",
   "metadata": {},
   "source": [
    "And we can examine a single \"review\" as follows:"
   ]
  },
  {
   "cell_type": "code",
   "execution_count": 3,
   "metadata": {},
   "outputs": [
    {
     "name": "stdout",
     "output_type": "stream",
     "text": [
      "{'id': 'cv999_14636', 'positive': 0, 'text': 'two party guys bob their heads to haddaway\\'s dance hit \" what is love ? \" \\nwhile getting themselves into trouble in nightclub after nightclub . \\nit\\'s barely enough to sustain a three-minute _saturday_night_live_ skit , but _snl_ producer lorne michaels , _clueless_ creator amy heckerling , and paramount pictures saw something in the late night television institution\\'s recurring \" roxbury guys \" sketch that would presumably make a good feature . \\nemphasis on the word \" presumably . \" \\n_a_night_at_the_roxbury_ takes an already-thin concept and tediously stretches it far beyond the breaking point--and that of viewers\\' patience levels . \\nthe first five minutes or so of _roxbury_ play very much like one of the original \" roxbury guys \" skits . \\nwith \" what is love ? \" \\nblaring on the soundtrack , the brotherly duo of doug and steve butabi ( chris kattan and will ferrell ) bob their heads , scope out \" hotties \" at clubs , and then bump a select few with violent pelvic thrusts . \\nthere is one crucial difference , however--these guys speak . \\nthat little fact has been used as justification for the film\\'s existence , that the butabis\\' newfound capacity for speech would open up a whole new set of doors for the characters . \\nthe doors opened by director john fortenberry and screenwriters steve koren , ferrell , and kattan are new , that\\'s for sure , but they all lead to comic dead ends . \\nthere is no story per se , only a loosely structured and linked series of subplots . \\nthe brothers literally run into ( or , rather , get run into , as in by car ) richard grieco of _21_jump_street_ fame , and through him they gain entrance into the exclusive roxbury club . \\nthere , they meet a hotshot club owner ( chazz palminteri , conspicuously uncredited--can you blame him ? ) , who takes an interest in an idea of theirs . \\nmeanwhile , the bros\\' overbearing father ( dan hedaya ) wants them to stop clubbing . \\nwhen doug refuses and the dimwitted steve obeys his father , a rift is created between the two . \\nthe narrative messiness of _roxbury_ would have been forgivable if all that went on were the slightest bit funny , but virtually none of it is . \\nthe assembled press audience mostly sat stonily silent throughout the entire film , with the one big exception being a big laugh near the end . \\nalas , the joke--a rather lazy takeoff on _jerry_maguire_--will only strike a chord with people who have seen that film . \\ngranted , a lot of people _have_ seen _jerry_maguire_ , but the fact that the film\\'s best joke is completely dependent on one\\'s familiarity with another film says a lot about _roxbury_\\'s lack of inspiration . \\nthat lack of inspiration can be traced back to the insipid characters themselves . \\nlike too many of the skits on the current incarnation of _saturday_night_live_ , \" the roxbury guys \" is a one-joke sketch that never once suggests that the characters have enough comic life in them to survive outside of the sketch context . \\nafter watching one of the \" roxbury \" skits on snl , this is what you come away with from the characters : they bob their heads to \" what is love ? \" , \\nbump unsuspecting women , and . . . that\\'s all . \\nafter watching _a_night_at_the_roxbury_ , you\\'ll be left with exactly the same . \\n'}\n"
     ]
    }
   ],
   "source": [
    "# Print the last review\n",
    "print(reviews[-1])"
   ]
  },
  {
   "cell_type": "markdown",
   "metadata": {},
   "source": [
    "# Text preprocessing and normalization\n",
    "\n",
    "As with dictionary and unsupervised approaches, the first step is **preprocessing**. We will do the following preprocessing:\n",
    "\n",
    "1. **Tokenize** into unigrams (i.e., words)\n",
    "2. **Remove stopwords and punctuation**\n",
    "\n",
    "Let's start with **tokenization**:"
   ]
  },
  {
   "cell_type": "code",
   "execution_count": 4,
   "metadata": {},
   "outputs": [],
   "source": [
    "# Tokenize entire corpus of reviews\n",
    "tokens = [word_tokenize(row['text']) for row in reviews]"
   ]
  },
  {
   "cell_type": "code",
   "execution_count": 5,
   "metadata": {},
   "outputs": [
    {
     "name": "stdout",
     "output_type": "stream",
     "text": [
      "['plot', ':', 'two', 'teen', 'couples', 'go', 'to', 'a', 'church', 'party', ',', 'drink', 'and', 'then', 'drive', '.', 'they', 'get', 'into', 'an', 'accident', '.', 'one', 'of', 'the', 'guys', 'dies', ',', 'but', 'his', 'girlfriend', 'continues', 'to', 'see', 'him', 'in', 'her', 'life', ',', 'and', 'has', 'nightmares', '.', 'what', \"'s\", 'the', 'deal', '?', 'watch', 'the', 'movie', 'and', '``', 'sorta', '``', 'find', 'out', '.', '.', '.', 'critique', ':', 'a', 'mind-fuck', 'movie', 'for', 'the', 'teen', 'generation', 'that', 'touches', 'on', 'a', 'very', 'cool', 'idea', ',', 'but', 'presents', 'it', 'in', 'a', 'very', 'bad', 'package', '.', 'which', 'is', 'what', 'makes', 'this', 'review', 'an', 'even', 'harder', 'one', 'to', 'write', ',', 'since', 'i', 'generally', 'applaud', 'films', 'which', 'attempt', 'to', 'break', 'the', 'mold', ',', 'mess', 'with', 'your', 'head', 'and', 'such', '(', 'lost', 'highway', '&', 'memento', ')', ',', 'but', 'there', 'are', 'good', 'and', 'bad', 'ways', 'of', 'making', 'all', 'types', 'of', 'films', ',', 'and', 'these', 'folks', 'just', 'did', \"n't\", 'snag', 'this', 'one', 'correctly', '.', 'they', 'seem', 'to', 'have', 'taken', 'this', 'pretty', 'neat', 'concept', ',', 'but', 'executed', 'it', 'terribly', '.', 'so', 'what', 'are', 'the', 'problems', 'with', 'the', 'movie', '?', 'well', ',', 'its', 'main', 'problem', 'is', 'that', 'it', \"'s\", 'simply', 'too', 'jumbled', '.', 'it', 'starts', 'off', '``', 'normal', '``', 'but', 'then', 'downshifts', 'into', 'this', '``', 'fantasy', '``', 'world', 'in', 'which', 'you', ',', 'as', 'an', 'audience', 'member', ',', 'have', 'no', 'idea', 'what', \"'s\", 'going', 'on', '.', 'there', 'are', 'dreams', ',', 'there', 'are', 'characters', 'coming', 'back', 'from', 'the', 'dead', ',', 'there', 'are', 'others', 'who', 'look', 'like', 'the', 'dead', ',', 'there', 'are', 'strange', 'apparitions', ',', 'there', 'are', 'disappearances', ',', 'there', 'are', 'a', 'looooot', 'of', 'chase', 'scenes', ',', 'there', 'are', 'tons', 'of', 'weird', 'things', 'that', 'happen', ',', 'and', 'most', 'of', 'it', 'is', 'simply', 'not', 'explained', '.', 'now', 'i', 'personally', 'do', \"n't\", 'mind', 'trying', 'to', 'unravel', 'a', 'film', 'every', 'now', 'and', 'then', ',', 'but', 'when', 'all', 'it', 'does', 'is', 'give', 'me', 'the', 'same', 'clue', 'over', 'and', 'over', 'again', ',', 'i', 'get', 'kind', 'of', 'fed', 'up', 'after', 'a', 'while', ',', 'which', 'is', 'this', 'film', \"'s\", 'biggest', 'problem', '.', 'it', \"'s\", 'obviously', 'got', 'this', 'big', 'secret', 'to', 'hide', ',', 'but', 'it', 'seems', 'to', 'want', 'to', 'hide', 'it', 'completely', 'until', 'its', 'final', 'five', 'minutes', '.', 'and', 'do', 'they', 'make', 'things', 'entertaining', ',', 'thrilling', 'or', 'even', 'engaging', ',', 'in', 'the', 'meantime', '?', 'not', 'really', '.', 'the', 'sad', 'part', 'is', 'that', 'the', 'arrow', 'and', 'i', 'both', 'dig', 'on', 'flicks', 'like', 'this', ',', 'so', 'we', 'actually', 'figured', 'most', 'of', 'it', 'out', 'by', 'the', 'half-way', 'point', ',', 'so', 'all', 'of', 'the', 'strangeness', 'after', 'that', 'did', 'start', 'to', 'make', 'a', 'little', 'bit', 'of', 'sense', ',', 'but', 'it', 'still', 'did', \"n't\", 'the', 'make', 'the', 'film', 'all', 'that', 'more', 'entertaining', '.', 'i', 'guess', 'the', 'bottom', 'line', 'with', 'movies', 'like', 'this', 'is', 'that', 'you', 'should', 'always', 'make', 'sure', 'that', 'the', 'audience', 'is', '``', 'into', 'it', '``', 'even', 'before', 'they', 'are', 'given', 'the', 'secret', 'password', 'to', 'enter', 'your', 'world', 'of', 'understanding', '.', 'i', 'mean', ',', 'showing', 'melissa', 'sagemiller', 'running', 'away', 'from', 'visions', 'for', 'about', '20', 'minutes', 'throughout', 'the', 'movie', 'is', 'just', 'plain', 'lazy', '!', '!', 'okay', ',', 'we', 'get', 'it', '.', '.', '.', 'there', 'are', 'people', 'chasing', 'her', 'and', 'we', 'do', \"n't\", 'know', 'who', 'they', 'are', '.', 'do', 'we', 'really', 'need', 'to', 'see', 'it', 'over', 'and', 'over', 'again', '?', 'how', 'about', 'giving', 'us', 'different', 'scenes', 'offering', 'further', 'insight', 'into', 'all', 'of', 'the', 'strangeness', 'going', 'down', 'in', 'the', 'movie', '?', 'apparently', ',', 'the', 'studio', 'took', 'this', 'film', 'away', 'from', 'its', 'director', 'and', 'chopped', 'it', 'up', 'themselves', ',', 'and', 'it', 'shows', '.', 'there', 'might', \"'ve\", 'been', 'a', 'pretty', 'decent', 'teen', 'mind-fuck', 'movie', 'in', 'here', 'somewhere', ',', 'but', 'i', 'guess', '``', 'the', 'suits', '``', 'decided', 'that', 'turning', 'it', 'into', 'a', 'music', 'video', 'with', 'little', 'edge', ',', 'would', 'make', 'more', 'sense', '.', 'the', 'actors', 'are', 'pretty', 'good', 'for', 'the', 'most', 'part', ',', 'although', 'wes', 'bentley', 'just', 'seemed', 'to', 'be', 'playing', 'the', 'exact', 'same', 'character', 'that', 'he', 'did', 'in', 'american', 'beauty', ',', 'only', 'in', 'a', 'new', 'neighborhood', '.', 'but', 'my', 'biggest', 'kudos', 'go', 'out', 'to', 'sagemiller', ',', 'who', 'holds', 'her', 'own', 'throughout', 'the', 'entire', 'film', ',', 'and', 'actually', 'has', 'you', 'feeling', 'her', 'character', \"'s\", 'unraveling', '.', 'overall', ',', 'the', 'film', 'does', \"n't\", 'stick', 'because', 'it', 'does', \"n't\", 'entertain', ',', 'it', \"'s\", 'confusing', ',', 'it', 'rarely', 'excites', 'and', 'it', 'feels', 'pretty', 'redundant', 'for', 'most', 'of', 'its', 'runtime', ',', 'despite', 'a', 'pretty', 'cool', 'ending', 'and', 'explanation', 'to', 'all', 'of', 'the', 'craziness', 'that', 'came', 'before', 'it', '.', 'oh', ',', 'and', 'by', 'the', 'way', ',', 'this', 'is', 'not', 'a', 'horror', 'or', 'teen', 'slasher', 'flick', '.', '.', '.', 'it', \"'s\", 'just', 'packaged', 'to', 'look', 'that', 'way', 'because', 'someone', 'is', 'apparently', 'assuming', 'that', 'the', 'genre', 'is', 'still', 'hot', 'with', 'the', 'kids', '.', 'it', 'also', 'wrapped', 'production', 'two', 'years', 'ago', 'and', 'has', 'been', 'sitting', 'on', 'the', 'shelves', 'ever', 'since', '.', 'whatever', '.', '.', '.', 'skip', 'it', '!', 'where', \"'s\", 'joblo', 'coming', 'from', '?', 'a', 'nightmare', 'of', 'elm', 'street', '3', '(', '7/10', ')', '-', 'blair', 'witch', '2', '(', '7/10', ')', '-', 'the', 'crow', '(', '9/10', ')', '-', 'the', 'crow', ':', 'salvation', '(', '4/10', ')', '-', 'lost', 'highway', '(', '10/10', ')', '-', 'memento', '(', '10/10', ')', '-', 'the', 'others', '(', '9/10', ')', '-', 'stir', 'of', 'echoes', '(', '8/10', ')']\n"
     ]
    }
   ],
   "source": [
    "print(tokens[0])"
   ]
  },
  {
   "cell_type": "markdown",
   "metadata": {},
   "source": [
    "Next, we remove common **stopwords** and **punctuation**:"
   ]
  },
  {
   "cell_type": "code",
   "execution_count": 6,
   "metadata": {},
   "outputs": [],
   "source": [
    "# Load common English stopwords\n",
    "stops = stopwords.words('english')\n",
    "extended_stops = stops + ['``', \"'s\", \"'ve'\"]\n",
    "\n",
    "# Define a function that removes stopwords AND punctuation\n",
    "def remove_stops(text, stops):\n",
    "    return [token for token in text if (token.lower() not in set(stops)) and (len(token) > 1)]\n",
    "\n",
    "tokens = [remove_stops(doc, extended_stops) for doc in tokens]"
   ]
  },
  {
   "cell_type": "code",
   "execution_count": 7,
   "metadata": {},
   "outputs": [
    {
     "name": "stdout",
     "output_type": "stream",
     "text": [
      "['plot', 'two', 'teen', 'couples', 'go', 'church', 'party', 'drink', 'drive', 'get', 'accident', 'one', 'guys', 'dies', 'girlfriend', 'continues', 'see', 'life', 'nightmares', 'deal', 'watch', 'movie', 'sorta', 'find', 'critique', 'mind-fuck', 'movie', 'teen', 'generation', 'touches', 'cool', 'idea', 'presents', 'bad', 'package', 'makes', 'review', 'even', 'harder', 'one', 'write', 'since', 'generally', 'applaud', 'films', 'attempt', 'break', 'mold', 'mess', 'head', 'lost', 'highway', 'memento', 'good', 'bad', 'ways', 'making', 'types', 'films', 'folks', \"n't\", 'snag', 'one', 'correctly', 'seem', 'taken', 'pretty', 'neat', 'concept', 'executed', 'terribly', 'problems', 'movie', 'well', 'main', 'problem', 'simply', 'jumbled', 'starts', 'normal', 'downshifts', 'fantasy', 'world', 'audience', 'member', 'idea', 'going', 'dreams', 'characters', 'coming', 'back', 'dead', 'others', 'look', 'like', 'dead', 'strange', 'apparitions', 'disappearances', 'looooot', 'chase', 'scenes', 'tons', 'weird', 'things', 'happen', 'simply', 'explained', 'personally', \"n't\", 'mind', 'trying', 'unravel', 'film', 'every', 'give', 'clue', 'get', 'kind', 'fed', 'film', 'biggest', 'problem', 'obviously', 'got', 'big', 'secret', 'hide', 'seems', 'want', 'hide', 'completely', 'final', 'five', 'minutes', 'make', 'things', 'entertaining', 'thrilling', 'even', 'engaging', 'meantime', 'really', 'sad', 'part', 'arrow', 'dig', 'flicks', 'like', 'actually', 'figured', 'half-way', 'point', 'strangeness', 'start', 'make', 'little', 'bit', 'sense', 'still', \"n't\", 'make', 'film', 'entertaining', 'guess', 'bottom', 'line', 'movies', 'like', 'always', 'make', 'sure', 'audience', 'even', 'given', 'secret', 'password', 'enter', 'world', 'understanding', 'mean', 'showing', 'melissa', 'sagemiller', 'running', 'away', 'visions', '20', 'minutes', 'throughout', 'movie', 'plain', 'lazy', 'okay', 'get', 'people', 'chasing', \"n't\", 'know', 'really', 'need', 'see', 'giving', 'us', 'different', 'scenes', 'offering', 'insight', 'strangeness', 'going', 'movie', 'apparently', 'studio', 'took', 'film', 'away', 'director', 'chopped', 'shows', 'might', \"'ve\", 'pretty', 'decent', 'teen', 'mind-fuck', 'movie', 'somewhere', 'guess', 'suits', 'decided', 'turning', 'music', 'video', 'little', 'edge', 'would', 'make', 'sense', 'actors', 'pretty', 'good', 'part', 'although', 'wes', 'bentley', 'seemed', 'playing', 'exact', 'character', 'american', 'beauty', 'new', 'neighborhood', 'biggest', 'kudos', 'go', 'sagemiller', 'holds', 'throughout', 'entire', 'film', 'actually', 'feeling', 'character', 'unraveling', 'overall', 'film', \"n't\", 'stick', \"n't\", 'entertain', 'confusing', 'rarely', 'excites', 'feels', 'pretty', 'redundant', 'runtime', 'despite', 'pretty', 'cool', 'ending', 'explanation', 'craziness', 'came', 'oh', 'way', 'horror', 'teen', 'slasher', 'flick', 'packaged', 'look', 'way', 'someone', 'apparently', 'assuming', 'genre', 'still', 'hot', 'kids', 'also', 'wrapped', 'production', 'two', 'years', 'ago', 'sitting', 'shelves', 'ever', 'since', 'whatever', 'skip', 'joblo', 'coming', 'nightmare', 'elm', 'street', '7/10', 'blair', 'witch', '7/10', 'crow', '9/10', 'crow', 'salvation', '4/10', 'lost', 'highway', '10/10', 'memento', '10/10', 'others', '9/10', 'stir', 'echoes', '8/10']\n"
     ]
    }
   ],
   "source": [
    "print(tokens[0])"
   ]
  },
  {
   "cell_type": "code",
   "execution_count": 8,
   "metadata": {},
   "outputs": [],
   "source": [
    "# Prepare data for sklearn. First, get the text\n",
    "texts = [' '.join(doc) for doc in tokens]\n",
    "\n",
    "# And then get the \"class\" variable\n",
    "positive = [trav['positive'] for trav in reviews]"
   ]
  },
  {
   "cell_type": "code",
   "execution_count": 10,
   "metadata": {
    "scrolled": true
   },
   "outputs": [
    {
     "data": {
      "text/plain": [
       "0"
      ]
     },
     "execution_count": 10,
     "metadata": {},
     "output_type": "execute_result"
    }
   ],
   "source": [
    "positive[0]"
   ]
  },
  {
   "cell_type": "markdown",
   "metadata": {},
   "source": [
    "While all of our 2,000 movie reviews are labeled, in real-world analysis, you will have (labeled) training data, as well as unlabeled data. We will simulate this more realistic scenario by \"pretending\" that the last 500 reviews are unlabeled:"
   ]
  },
  {
   "cell_type": "code",
   "execution_count": 11,
   "metadata": {},
   "outputs": [],
   "source": [
    "# Split texts\n",
    "texts_labeled = texts[0:1500]\n",
    "texts_unlabeled = texts[1500:]\n",
    "\n",
    "# Split class\n",
    "positive_labeled = positive[0:1500]"
   ]
  },
  {
   "cell_type": "code",
   "execution_count": 12,
   "metadata": {},
   "outputs": [
    {
     "data": {
      "text/plain": [
       "0"
      ]
     },
     "execution_count": 12,
     "metadata": {},
     "output_type": "execute_result"
    }
   ],
   "source": [
    "positive_labeled[0]"
   ]
  },
  {
   "cell_type": "markdown",
   "metadata": {},
   "source": [
    "# Feature extraction\n",
    "\n",
    "**Feature extraction** (also called **vectorization**) is a process whereby we extract meaningful features or attributes from raw textual data that will be used in a classification algorithm. We have already extracted **bag-of-words** features using the `CountVectorizer`:"
   ]
  },
  {
   "cell_type": "code",
   "execution_count": 13,
   "metadata": {},
   "outputs": [],
   "source": [
    "# Initialize vectorizer\n",
    "vectorizer = CountVectorizer()\n",
    "\n",
    "# Transform the text data using the chosen vectorizer\n",
    "X = vectorizer.fit_transform(texts_labeled)"
   ]
  },
  {
   "cell_type": "markdown",
   "metadata": {},
   "source": [
    "What does `CountVectorizer()` actually do? It generates what's called a **document-term matrix** in which our documents are on the rows, our **vocabulary** (all of the unique terms in our corpus) is in the columns, and the cells represent the number of times (the count) a term shows up in each document."
   ]
  },
  {
   "cell_type": "code",
   "execution_count": 16,
   "metadata": {},
   "outputs": [
    {
     "name": "stdout",
     "output_type": "stream",
     "text": [
      "(1500, 35267)\n"
     ]
    }
   ],
   "source": [
    "print(X.shape)"
   ]
  },
  {
   "cell_type": "markdown",
   "metadata": {},
   "source": [
    "So we have 1500 documents (which we already knew) and 35,162 unique words (or tokens) in our corpus. We can look at these 35k tokens using:"
   ]
  },
  {
   "cell_type": "code",
   "execution_count": 17,
   "metadata": {},
   "outputs": [
    {
     "data": {
      "text/plain": [
       "array(['00', '000', '0009f', ..., 'zwigoff', 'zycie', 'zzzzzzz'],\n",
       "      dtype=object)"
      ]
     },
     "execution_count": 17,
     "metadata": {},
     "output_type": "execute_result"
    }
   ],
   "source": [
    "vectorizer.get_feature_names_out()"
   ]
  },
  {
   "cell_type": "markdown",
   "metadata": {},
   "source": [
    "We can lookup the number of times the token '0009f' is used in the first movie review as follows:"
   ]
  },
  {
   "cell_type": "code",
   "execution_count": 19,
   "metadata": {},
   "outputs": [
    {
     "name": "stdout",
     "output_type": "stream",
     "text": [
      "0\n"
     ]
    }
   ],
   "source": [
    "print(X[0,2])"
   ]
  },
  {
   "cell_type": "markdown",
   "metadata": {},
   "source": [
    "It doesn't show up! This isn't really surprising: only a handful of the 35k works will show up in any one movie review. Most of the cells in the **document-term matrix** will be zeros. This is what is called a **sparse matrix**."
   ]
  },
  {
   "cell_type": "markdown",
   "metadata": {},
   "source": [
    "### TF-IDF\n",
    "\n",
    "Another commonly used vectorization method is applying **term frequency-inverse document frequency** weights.\n",
    "\n",
    "The TF-IDF weights are defined as follows:\n",
    "\n",
    "\\begin{equation}\n",
    "tf * idf\n",
    "\\end{equation}\n",
    "\n",
    "Where $tf$ represents the relative term frequency of word in a document and the $idf$ is defined as:\n",
    "\n",
    "\\begin{equation}\n",
    "idf(t) = 1 + log\\frac{N}{1+df(t)}\n",
    "\\end{equation}\n",
    "\n",
    "Where $N$ represents the total number of documents in the corpus and $df(t)$ represents the number of documents in which term $t$ is present. Often the $tfidf$ weigthts are normalized to range between 0 and 1 by using the L2 norm:\n",
    "\n",
    "\\begin{equation}\n",
    "tfidf_{norm} = \\frac{tfidf}{||tfidf||}\n",
    "\\end{equation}"
   ]
  },
  {
   "cell_type": "markdown",
   "metadata": {},
   "source": [
    "TF-IDF vectorization in `sklearn` is easy. We simply load the the `TfidfVectorizer` and perform the same process as above:"
   ]
  },
  {
   "cell_type": "code",
   "execution_count": 20,
   "metadata": {},
   "outputs": [],
   "source": [
    "# Initialize the vectorizer\n",
    "vectorizer = TfidfVectorizer()\n",
    "\n",
    "# Generate TF-IDF weights\n",
    "X_tfidf = vectorizer.fit_transform(texts_labeled)"
   ]
  },
  {
   "cell_type": "markdown",
   "metadata": {},
   "source": [
    "We can compare our counts and TF-IDF weights:"
   ]
  },
  {
   "cell_type": "code",
   "execution_count": 21,
   "metadata": {
    "scrolled": true
   },
   "outputs": [
    {
     "name": "stdout",
     "output_type": "stream",
     "text": [
      "Counts =\n",
      "[[ 1  1  1  2  1  1 10  1  1  1  1  1  1  1  1  1  1  1  1  1  1  1  1  1\n",
      "   1  1  1  1  1  1  1  1  1  1  1  1  1  1  1  1  1  1  1  1  1  1  1  1\n",
      "   1  1  1  1  1  1  2  1  1  1  1  1  1  1  1  1  1  1  1  1  1  1  1  1\n",
      "   1  1  1  1  1  1  2  1  1  1  1  1  1  1  1  1  1  1  1  2  1  1  2  1\n",
      "   2  1  1  1  1  1  1  1  1  1  1  1  1  2  2  2  1  2  1  2  1  3  1  1\n",
      "   2  1  1  1  2  1  2  1  1  1  2  5  2  1  1  1  1  1  2  2  1  1  1  2\n",
      "   1  1  1  1  1  6  1  1  1  1  1  2  1  1  2  1  1  1  1  1  3  2  2  2\n",
      "   1  2  1  1  2  1  2  2  1  1  1  1  1  2  2  1  1  1  1  1  1  1  5  1\n",
      "   1  1  1  1  1  1  1  2  2  2  2  1  1  1  1  1  2  1  1  2  1  1  3  1\n",
      "   1  1  2  1  2  2  1  1  2  3  1  1  1  6  1  1  1  1  2  1  1  1  1  3\n",
      "   1  3  1  1  1  1  2  1  4  2  1]]\n",
      "TF-IDF weights =\n",
      "[[0.06591754 0.06871883 0.06871883 0.12599666 0.05595759 0.05668382\n",
      "  0.39422847 0.04510487 0.06871883 0.05315631 0.06177449 0.05872692\n",
      "  0.04319636 0.02592255 0.06677836 0.04790615 0.03994304 0.02520276\n",
      "  0.03568528 0.0578661  0.01888182 0.03705343 0.04307962 0.03784003\n",
      "  0.06591754 0.03238982 0.08381101 0.04155762 0.05494689 0.03733334\n",
      "  0.03908856 0.04039508 0.07787737 0.0520996  0.03376375 0.03451689\n",
      "  0.07575956 0.06770812 0.0386045  0.08381101 0.04657719 0.04981466\n",
      "  0.05462863 0.05113106 0.04218566 0.0885208  0.03985471 0.03281397\n",
      "  0.04863237 0.06436647 0.06511614 0.02274112 0.04689545 0.03167202\n",
      "  0.03817224 0.05160524 0.03305648 0.03950794 0.07575956 0.0578661\n",
      "  0.02694773 0.02775742 0.01781819 0.04755939 0.03657925 0.03315492\n",
      "  0.04920848 0.04689545 0.05668382 0.04404816 0.0420786  0.02649327\n",
      "  0.02804036 0.03220617 0.07787737 0.02084729 0.04218566 0.0449674\n",
      "  0.07689505 0.05401713 0.05745849 0.03216071 0.02473856 0.03933837\n",
      "  0.0349126  0.02288315 0.0570647  0.02157186 0.04611557 0.05872692\n",
      "  0.0502371  0.07088403 0.04790615 0.06299833 0.05466108 0.03413421\n",
      "  0.16762201 0.07241791 0.04307962 0.03747586 0.05315631 0.05090104\n",
      "  0.07787737 0.03016453 0.03012638 0.02938863 0.02351232 0.0317156\n",
      "  0.04981466 0.0778499  0.04724115 0.05957717 0.0302412  0.04121976\n",
      "  0.03502818 0.15151913 0.02788232 0.05828928 0.0307523  0.05965668\n",
      "  0.05142461 0.04940705 0.06436647 0.06366227 0.05349342 0.04755939\n",
      "  0.04278184 0.06511614 0.04960906 0.05668382 0.07149381 0.09707303\n",
      "  0.05646578 0.03684783 0.03335434 0.03243619 0.0291411  0.02388458\n",
      "  0.11412939 0.08271121 0.02459574 0.03116135 0.03747586 0.08352643\n",
      "  0.0591825  0.02971483 0.05668382 0.02889873 0.02438475 0.0786504\n",
      "  0.07104977 0.02949635 0.05494689 0.05288298 0.0386045  0.05137258\n",
      "  0.04960906 0.06120775 0.04520162 0.04343343 0.0885208  0.08381101\n",
      "  0.07787737 0.0412559  0.04461783 0.05132067 0.07112602 0.06591774\n",
      "  0.02317253 0.07302612 0.02005274 0.04581772 0.05010831 0.04443325\n",
      "  0.04962126 0.05040552 0.04790615 0.08381101 0.04626741 0.03526285\n",
      "  0.06982593 0.06553215 0.06468727 0.03225181 0.0188385  0.03671276\n",
      "  0.05372304 0.05431886 0.04689545 0.0578661  0.15025232 0.03829264\n",
      "  0.0291411  0.06871883 0.08381101 0.0502371  0.05561083 0.02807223\n",
      "  0.04058093 0.03558364 0.16762201 0.12873294 0.06837623 0.03371178\n",
      "  0.0418674  0.06677836 0.04115704 0.03726272 0.04351131 0.07396898\n",
      "  0.04657719 0.05259979 0.04552731 0.06015104 0.05024143 0.03538198\n",
      "  0.02375183 0.0623703  0.04544195 0.04981466 0.0665084  0.08271121\n",
      "  0.05261594 0.05090104 0.13541624 0.09335937 0.0523549  0.02608277\n",
      "  0.07241791 0.08693849 0.0291411  0.03900647 0.06299833 0.02173714\n",
      "  0.03966175 0.04882125 0.03959367 0.04689545 0.03733334 0.0390622\n",
      "  0.04863237 0.05561919 0.04755939 0.06066738 0.0456716  0.05668382\n",
      "  0.04588911 0.06177449 0.17825801 0.03811342 0.02095054]]\n"
     ]
    }
   ],
   "source": [
    "print('Counts =')\n",
    "print(X[0,np.nonzero(X_tfidf[0,:])[1]].todense())\n",
    "\n",
    "print('TF-IDF weights =')\n",
    "print(X_tfidf[0,np.nonzero(X_tfidf[0,:])[1]].todense())"
   ]
  },
  {
   "cell_type": "markdown",
   "metadata": {},
   "source": [
    "The `TfidfVectorizer` smooths the IDF (i.e., adds a 1 to avoid division by 0) and normalizes using the **L2 norm** by default."
   ]
  },
  {
   "cell_type": "markdown",
   "metadata": {},
   "source": [
    "## Other feature extraction decisions\n",
    "\n",
    "There are a number of other items to consider when vectorizing. One thing that can really change classification performance is switching from **unigrams** to **ngrams**. This is easy to implement in `sklearn`:"
   ]
  },
  {
   "cell_type": "code",
   "execution_count": 22,
   "metadata": {},
   "outputs": [],
   "source": [
    "# Use unigrams and bigrams\n",
    "vectorizer_bigram = TfidfVectorizer(ngram_range=(1,2))\n",
    "\n",
    "# Generate TF-IDF weights\n",
    "X_bigram = vectorizer_bigram.fit_transform(texts_labeled)"
   ]
  },
  {
   "cell_type": "markdown",
   "metadata": {},
   "source": [
    "I also sometimes restrict the maximum and minimum documents for which a token appears:"
   ]
  },
  {
   "cell_type": "code",
   "execution_count": 23,
   "metadata": {},
   "outputs": [],
   "source": [
    "# Use unigrams and bigrams\n",
    "vectorizer_bigram = TfidfVectorizer(max_df = .95, min_df = 10, ngram_range=(1,2))\n",
    "\n",
    "# Generate TF-IDF weights\n",
    "X_bigram = vectorizer_bigram.fit_transform(texts_labeled)"
   ]
  },
  {
   "cell_type": "markdown",
   "metadata": {},
   "source": [
    "# Fitting a naive Bayes model in `sklearn`\n",
    "\n",
    "Fitting our model in `sklearn` is really, really easy. Let's get a feel for how this works using a simple **naive Bayes** model:"
   ]
  },
  {
   "cell_type": "code",
   "execution_count": 24,
   "metadata": {},
   "outputs": [],
   "source": [
    "# Initialize vectorizer\n",
    "vectorizer = CountVectorizer()\n",
    "\n",
    "# Transform the text data using the chosen vectorizer\n",
    "X = vectorizer.fit_transform(texts_labeled)\n",
    "\n",
    "# Prepare our \"class\" variable\n",
    "y = np.array(positive_labeled)\n",
    "\n",
    "# Initialize the classifer\n",
    "clf = MultinomialNB()\n",
    "\n",
    "# Fit the model\n",
    "clf_fit = clf.fit(X, y)"
   ]
  },
  {
   "cell_type": "markdown",
   "metadata": {},
   "source": [
    "We can generate predictions for reviews (e.g., our `y` variable) using the `predict` method:"
   ]
  },
  {
   "cell_type": "code",
   "execution_count": 25,
   "metadata": {},
   "outputs": [],
   "source": [
    "y_predict = clf_fit.predict(X)"
   ]
  },
  {
   "cell_type": "code",
   "execution_count": 26,
   "metadata": {},
   "outputs": [
    {
     "name": "stdout",
     "output_type": "stream",
     "text": [
      "[0 1 1 0 1 0 1 0 1 0]\n"
     ]
    }
   ],
   "source": [
    "print(y_predict[0:10])"
   ]
  },
  {
   "cell_type": "markdown",
   "metadata": {},
   "source": [
    "And we can quickly look at how accurate our model is at predicting the movie reviews based on our text (`X`):"
   ]
  },
  {
   "cell_type": "code",
   "execution_count": 27,
   "metadata": {},
   "outputs": [
    {
     "data": {
      "text/plain": [
       "0.9806666666666667"
      ]
     },
     "execution_count": 27,
     "metadata": {},
     "output_type": "execute_result"
    }
   ],
   "source": [
    "clf_fit.score(X, y)"
   ]
  },
  {
   "cell_type": "markdown",
   "metadata": {},
   "source": [
    "Wowzers, 98% accurate! We are done, right? foo <font color='red'>WRONG</font>: we really care about **in-sample** fit."
   ]
  },
  {
   "cell_type": "markdown",
   "metadata": {},
   "source": [
    "# Model performance\n",
    "\n",
    "How well does our model perform? Let's get a sense of how one would assess **out-of-sample** performance using `sklearn`. First, we need to split our data into a training and testing set:"
   ]
  },
  {
   "cell_type": "code",
   "execution_count": null,
   "metadata": {
    "scrolled": true
   },
   "outputs": [],
   "source": [
    "# Split data into training and testing sets\n",
    "X_train, X_test, y_train, y_test = train_test_split(X, y, test_size=0.30, random_state=1234)\n",
    "\n",
    "print(\"Training set size = %s\" % y_train.shape)\n",
    "print(\"Validation set size = %s\" % y_test.shape)"
   ]
  },
  {
   "cell_type": "code",
   "execution_count": null,
   "metadata": {},
   "outputs": [],
   "source": [
    "X_train.shape"
   ]
  },
  {
   "cell_type": "markdown",
   "metadata": {},
   "source": [
    "Next, we train our model using the training set and predict the classes for our test set:"
   ]
  },
  {
   "cell_type": "code",
   "execution_count": null,
   "metadata": {},
   "outputs": [],
   "source": [
    "# Initialize the classifer\n",
    "clf = MultinomialNB()\n",
    "\n",
    "# Fit the model\n",
    "clf_fit = clf.fit(X_train, y_train)\n",
    "\n",
    "# Generate predictions\n",
    "y_predict = clf_fit.predict(X_test)"
   ]
  },
  {
   "cell_type": "markdown",
   "metadata": {},
   "source": [
    "### Performance metrics\n",
    "\n",
    "With our prediction in hand, we can now calculate a range of **performance metrics**. All of these metrics start with what's referred to as a **confusion matrix**: \n",
    "\n",
    "<img src=\"https://miro.medium.com/v2/resize:fit:712/format:webp/1*Z54JgbS4DUwWSknhDCvNTQ.png\">\n",
    "\n",
    "From this matrix, we can define the following:"
   ]
  },
  {
   "cell_type": "markdown",
   "metadata": {},
   "source": [
    "\\begin{equation}\n",
    "    Acurracy = \\frac{TP + TN}{TP + FP + FN + TN}\n",
    "  \\end{equation}\n",
    "  \n",
    "  \\begin{equation}\n",
    "    Precision = \\frac{TP}{TP + FP}\n",
    "  \\end{equation}\n",
    "  \n",
    "  \\begin{equation}\n",
    "    Recall = \\frac{TP}{TP + FN}\n",
    "  \\end{equation}\n",
    "  \n",
    "  \\begin{equation}\n",
    "    Specificity = \\frac{TN}{TN + FP}\n",
    "  \\end{equation}"
   ]
  },
  {
   "cell_type": "markdown",
   "metadata": {},
   "source": [
    "The most commonly employed metric is **accuracy**. However, we need to be very careful when using accuracy alone. For example, consider Dallas Raines, the most accurate meteorologist in history:\n",
    "\n",
    "<img src=\"http://farm6.static.flickr.com/5260/5516412091_06fea7fdb8.jpg\" style=\"width=400;height=300\">\n",
    "\n",
    "If accuracy falls apart for \"imbalanced classes,\" then what are our alternatives. The most common alternatives (and what I tend to use in my own work) is some combination of **precision** and **recall**:\n",
    "\n",
    "<img src=\"https://upload.wikimedia.org/wikipedia/commons/2/26/Precisionrecall.svg\" style=\"width=300;height=400\">\n",
    "\n",
    "These measures are formally combined in the **F1-score**:\n",
    "\n",
    "\\begin{equation}\n",
    "  F1 = \\frac{2\\:x\\:Precision\\:x\\:Recall}{Precision\\:+\\:Recall}\n",
    "\\end{equation}\n",
    "\n",
    "The F1-score takes into account the tradeoff between precision and accuracy. All of these metrics (and others as well) are easy to calculate in `sklearn`:"
   ]
  },
  {
   "cell_type": "code",
   "execution_count": null,
   "metadata": {},
   "outputs": [],
   "source": [
    "print(f'Accuracy = {clf_fit.score(X_test, y_test)}')\n",
    "print(f'Precision = {precision_score(y_test, y_predict)}')\n",
    "print(f'Recall = {recall_score(y_test, y_predict)}')\n",
    "print(f'F1 score = {f1_score(y_test, y_predict)}')"
   ]
  },
  {
   "cell_type": "markdown",
   "metadata": {},
   "source": [
    "## Cross-validation\n",
    "\n",
    "In the last section, we randomly split our data into 70% training and 30% testing. The realized sample, however, is just one of many samples that we could have pulled. Here, we will look at **k-fold cross-validation**. What do we mean be cross-validation? Take a look at the following:\n",
    "\n",
    "<img src=\"https://upload.wikimedia.org/wikipedia/commons/1/1c/K-fold_cross_validation_EN.jpg\">\n",
    "\n",
    "Once again, cross-validation is easy in `sklearn`. Here is the relevant code for 10-fold CV using our movies data the **long way**:"
   ]
  },
  {
   "cell_type": "code",
   "execution_count": null,
   "metadata": {},
   "outputs": [],
   "source": [
    "# Setup classifier\n",
    "clf = MultinomialNB()\n",
    "\n",
    "# Get the k folds\n",
    "kf = KFold(n_splits=10, shuffle = True, random_state=50)\n",
    "\n",
    "# Loop over folds and calculate performance measure\n",
    "results = []\n",
    "for k, (train_idx, test_idx) in enumerate(kf.split(X)):\n",
    "    # Fit model\n",
    "    cfit = clf.fit(X[train_idx], y[train_idx])\n",
    "    \n",
    "    # Get predictions\n",
    "    y_pred = cfit.predict(X[test_idx])\n",
    "    \n",
    "    # Write results\n",
    "    result = {'fold': k,\n",
    "              'precision': precision_score(y[test_idx], y_pred),\n",
    "              'recall': recall_score(y[test_idx], y_pred),\n",
    "              'f1': f1_score(y[test_idx], y_pred)}\n",
    "              \n",
    "    results.append(result)"
   ]
  },
  {
   "cell_type": "code",
   "execution_count": null,
   "metadata": {},
   "outputs": [],
   "source": [
    "print(results)"
   ]
  },
  {
   "cell_type": "markdown",
   "metadata": {},
   "source": [
    "And we can then pull out any information from our `results` dictionary that we want:"
   ]
  },
  {
   "cell_type": "code",
   "execution_count": null,
   "metadata": {},
   "outputs": [],
   "source": [
    "# Get the average F1 score\n",
    "mean_f1 = np.mean(np.array([row['f1'] for row in results]))\n",
    "\n",
    "print(\"Average, cross-validated F1 score = %s\" % mean_f1)"
   ]
  },
  {
   "cell_type": "markdown",
   "metadata": {},
   "source": [
    "While this code clearly outlines the steps taken for cross-validation, it is a bit cumbersome. Luckily, `sklearn` has a utilty function to streamline this process:"
   ]
  },
  {
   "cell_type": "code",
   "execution_count": null,
   "metadata": {},
   "outputs": [],
   "source": [
    "from sklearn.model_selection import cross_val_score"
   ]
  },
  {
   "cell_type": "code",
   "execution_count": null,
   "metadata": {},
   "outputs": [],
   "source": [
    "print(cross_val_score(clf, X, y, cv=10, scoring=\"precision\"))"
   ]
  },
  {
   "cell_type": "markdown",
   "metadata": {},
   "source": [
    "We can average over the each fold using `np.mean()`:"
   ]
  },
  {
   "cell_type": "code",
   "execution_count": null,
   "metadata": {},
   "outputs": [],
   "source": [
    "np.mean(cross_val_score(clf, X, y, cv=10, scoring=\"precision\"))"
   ]
  },
  {
   "cell_type": "markdown",
   "metadata": {},
   "source": [
    "# Model selection\n",
    "\n",
    "We've seen how to estimate a Naive Bayes classifier. However, this is only one of many models available in `sklearn` (for a list of available classifiers, see http://scikit-learn.org/stable/supervised_learning.html). When selecting a model, the typical process is to try a bunch of different models and select the \"best\" based on out of sample performance.\n",
    "\n",
    "Let's take a look at one model that has been shown to be extremely accurate for text classification problems: the **support vector machine**."
   ]
  },
  {
   "cell_type": "markdown",
   "metadata": {},
   "source": [
    "### Support vector machines\n",
    "\n",
    "There are two versions of **support vector classifiers** available in `sklearn`, the `LinearSVC()` (which is restricted to the linear case, but is super fast!) and the `SVC()` implementation (which is highly flexible, but a bit slow). For an extremely clear introduction to what these models are actually doing, see <a href=\"https://www.youtube.com/watch?v=N1vOgolbjSc\">this video</a>."
   ]
  },
  {
   "cell_type": "markdown",
   "metadata": {},
   "source": [
    "We can fit these models using the exact same procedure as specified above for Naive Bayes:"
   ]
  },
  {
   "cell_type": "code",
   "execution_count": null,
   "metadata": {},
   "outputs": [],
   "source": [
    "# Use the TF-IDF weights instead of counts\n",
    "X = X_tfidf\n",
    "\n",
    "# Split data into training and testing sets. Same splits as Naive Bayes.\n",
    "X_train, X_test, y_train, y_test = train_test_split(X, y, test_size=0.30, random_state=1234)\n",
    "\n",
    "# Initialize the classifer\n",
    "clf = LinearSVC()\n",
    "\n",
    "# Fit the model using the training data\n",
    "# generated above.\n",
    "clf_fit = clf.fit(X_train, y_train)\n",
    "\n",
    "# Generate predictions\n",
    "y_predict = clf_fit.predict(X_test)\n",
    "\n",
    "# Output performance metrics\n",
    "print('Precision = %s' % precision_score(y_test, y_predict))\n",
    "print('Recall = %s' % recall_score(y_test, y_predict))\n",
    "print('F1 score = %s' % f1_score(y_test, y_predict))\n",
    "print(\"Accuracy score = %s\" % accuracy_score(y_test, y_predict))"
   ]
  },
  {
   "cell_type": "markdown",
   "metadata": {},
   "source": [
    "We fit the `SVC()` version of the model in the exact same way. However, `SVC` is more flexible and can handle nonlinear hyperplanes. Let's use the popular [radial basis function kernel](https://en.wikipedia.org/wiki/Radial_basis_function_kernel) to fit a nonlinear classifier:"
   ]
  },
  {
   "cell_type": "code",
   "execution_count": null,
   "metadata": {},
   "outputs": [],
   "source": [
    "# Initialize the classifer using the rbf kernel\n",
    "clf = SVC(kernel = 'rbf')\n",
    "\n",
    "# Fit the model using the training data\n",
    "# generated above.\n",
    "clf_fit = clf.fit(X_train, y_train)\n",
    "\n",
    "# Generate predictions\n",
    "y_predict = clf_fit.predict(X_test)\n",
    "\n",
    "# Output performance metrics\n",
    "print('Precision = %s' % precision_score(y_test, y_predict))\n",
    "print('Recall = %s' % recall_score(y_test, y_predict))\n",
    "print('F1 score = %s' % f1_score(y_test, y_predict))"
   ]
  },
  {
   "cell_type": "markdown",
   "metadata": {},
   "source": [
    "Ouch -- not as good of a model! We can look more at where the model is getting confused by viewing the confusion matrix (note: truth is on the rows and prediction is on the columns):"
   ]
  },
  {
   "cell_type": "code",
   "execution_count": null,
   "metadata": {},
   "outputs": [],
   "source": [
    "from sklearn.metrics import confusion_matrix\n",
    "\n",
    "# Print the confusion matrix\n",
    "print(confusion_matrix(y_test, y_predict))"
   ]
  },
  {
   "cell_type": "markdown",
   "metadata": {},
   "source": [
    "So complexity does not always help for **out-of-sample** classification. We can also use `SVC()` with a linear kernel to get very similar results as `LinearSVC()`:"
   ]
  },
  {
   "cell_type": "code",
   "execution_count": null,
   "metadata": {},
   "outputs": [],
   "source": [
    "# Initialize the classifer\n",
    "clf = SVC(kernel = 'linear')\n",
    "\n",
    "# Fit the model using the training data\n",
    "# generated above.\n",
    "clf_fit = clf.fit(X_train, y_train)\n",
    "\n",
    "# Generate predictions\n",
    "y_predict = clf_fit.predict(X_test)\n",
    "\n",
    "# Output performance metrics\n",
    "print('Precision = %s' % precision_score(y_test, y_predict))\n",
    "print('Recall = %s' % recall_score(y_test, y_predict))\n",
    "print('F1 score = %s' % f1_score(y_test, y_predict))"
   ]
  },
  {
   "cell_type": "markdown",
   "metadata": {},
   "source": [
    "### Logistic regression classifer\n",
    "\n",
    "My desert island classifer is logistic regression. We would use the same sytax to estmate a logistic regression in sklearn:"
   ]
  },
  {
   "cell_type": "code",
   "execution_count": null,
   "metadata": {},
   "outputs": [],
   "source": [
    "# Load the model\n",
    "from sklearn.linear_model import LogisticRegression"
   ]
  },
  {
   "cell_type": "code",
   "execution_count": null,
   "metadata": {},
   "outputs": [],
   "source": [
    "# Initialize the classifer\n",
    "clf = LogisticRegression()\n",
    "\n",
    "# Fit the model using the training data\n",
    "# generated above.\n",
    "clf_fit = clf.fit(X_train, y_train)\n",
    "\n",
    "# Generate predictions\n",
    "y_predict = clf_fit.predict(X_test)\n",
    "\n",
    "# Output performance metrics\n",
    "print('Precision = %s' % precision_score(y_test, y_predict))\n",
    "print('Recall = %s' % recall_score(y_test, y_predict))\n",
    "print('F1 score = %s' % f1_score(y_test, y_predict))"
   ]
  },
  {
   "cell_type": "markdown",
   "metadata": {},
   "source": [
    "## Parameter tuning\n",
    "\n",
    "As we discussed in class, one of the most important parameters in an SVC is the regularization parameter `C`. Let's see how one would \"tune\" this parameter in `sklearn` using the **grid search** method. Here, we define a (coarse) grid of parameter values, estimate a classifier, cross-validate to get out-of-sample performance, and save the results. `sklearn` has a `GridSearchCV` class that makes this very easy."
   ]
  },
  {
   "cell_type": "markdown",
   "metadata": {},
   "source": [
    "Next, we set of the parameter grid:"
   ]
  },
  {
   "cell_type": "code",
   "execution_count": null,
   "metadata": {},
   "outputs": [],
   "source": [
    "\"\"\"\n",
    "param_grid = [\n",
    "  {'C': [.5, 1, 1.5], 'loss': ['hinge']},\n",
    "  {'C': [.5, 1, 1.5], 'loss': ['squared_hinge']},\n",
    " ]\n",
    "\"\"\"\n",
    "\n",
    "param_grid = [\n",
    "  {'C': [.95, .98, 1, 1.02, 1.03]}\n",
    " ]"
   ]
  },
  {
   "cell_type": "code",
   "execution_count": null,
   "metadata": {},
   "outputs": [],
   "source": [
    "# Initialize model\n",
    "lsvc = LinearSVC()\n",
    "\n",
    "# Intialize grid search\n",
    "grid = GridSearchCV(lsvc, param_grid=param_grid, cv=5, scoring = 'f1')\n",
    "\n",
    "# Run grid search\n",
    "grid.fit(X, y)"
   ]
  },
  {
   "cell_type": "markdown",
   "metadata": {},
   "source": [
    "After running the grid search algorithm, we can print out the optimal results:"
   ]
  },
  {
   "cell_type": "code",
   "execution_count": null,
   "metadata": {},
   "outputs": [],
   "source": [
    "print(\"The best model based on CV =\")\n",
    "print(grid.best_estimator_)\n",
    "\n",
    "print(\"\\nThe score of the best model = \")\n",
    "print(grid.best_score_)"
   ]
  },
  {
   "cell_type": "markdown",
   "metadata": {},
   "source": [
    "For more information on parameter tuning in `sklearn` (including a number of great worked examples), see http://scikit-learn.org/stable/modules/grid_search.html."
   ]
  },
  {
   "cell_type": "code",
   "execution_count": null,
   "metadata": {},
   "outputs": [],
   "source": [
    "grid.cv_results_"
   ]
  },
  {
   "cell_type": "markdown",
   "metadata": {},
   "source": [
    "## Estimating a final model\n",
    "\n",
    "We will often spend quite a bit of time in the model selection phase, trying different models, tuning parameters, and comparing out-of-sample performance. However, once we've decided on a model, then we need to use the model to classify unannotated data.\n",
    "\n",
    "This is quite easy in `sklearn` and not much changes in terms of implementation. First, we re-estimate our model based on **all available data** and then project out to the remaining sample."
   ]
  },
  {
   "cell_type": "code",
   "execution_count": null,
   "metadata": {},
   "outputs": [],
   "source": [
    "# Re-estimate the best fitting model on all\n",
    "# of the data\n",
    "clf = LinearSVC(C = 1.03)\n",
    "\n",
    "# Fit the model\n",
    "clf_fit = clf.fit(X, y)"
   ]
  },
  {
   "cell_type": "markdown",
   "metadata": {},
   "source": [
    "Next, we need to prepare our unannotated data using the same vectorization process as used for the model:"
   ]
  },
  {
   "cell_type": "code",
   "execution_count": null,
   "metadata": {},
   "outputs": [],
   "source": [
    "X_unlabeled = vectorizer.transform(texts_unlabeled)"
   ]
  },
  {
   "cell_type": "markdown",
   "metadata": {},
   "source": [
    "And then we predict the new classes as usual:"
   ]
  },
  {
   "cell_type": "code",
   "execution_count": null,
   "metadata": {
    "scrolled": true
   },
   "outputs": [],
   "source": [
    "y_predict = clf_fit.predict(X_unlabeled)\n",
    "print(y_predict[0:10])"
   ]
  },
  {
   "cell_type": "markdown",
   "metadata": {},
   "source": [
    "While we \"pretended\" that our the remaining 500 reviews were unlabeled, we can actually check the performance of our classifer for the remaining 500:"
   ]
  },
  {
   "cell_type": "code",
   "execution_count": null,
   "metadata": {},
   "outputs": [],
   "source": [
    "# Pull the class values for the final 500\n",
    "positive_unlabeled = positive[1500:]\n",
    "\n",
    "# Save as a numpy array\n",
    "y_unlabeled = np.array(positive_unlabeled)\n",
    "\n",
    "# Compare via the F1 score\n",
    "print('F1 score = %s' % f1_score(y_unlabeled, y_predict))"
   ]
  },
  {
   "cell_type": "markdown",
   "metadata": {},
   "source": [
    "# Multiclass classification\n",
    "\n",
    "Up until now, we have assumed that we have two classes: positive and negative reviews. What if we have more classes? It turns out that extending our binary classifiers to handle multiclass data is quite easy in `sklearn`. We will, however, need a new dataset. Let's use some data from my own research on classifying skeptical claims related to climate change:"
   ]
  },
  {
   "cell_type": "code",
   "execution_count": null,
   "metadata": {},
   "outputs": [],
   "source": [
    "import json\n",
    "\n",
    "# Read \"CARDS\" JSON file\n",
    "with open('cards.json', 'r') as jfile:\n",
    "    cards = json.load(jfile)\n",
    "\n",
    "print('Loaded %s annotated paragraphs.' % len(cards))"
   ]
  },
  {
   "cell_type": "markdown",
   "metadata": {},
   "source": [
    "The `cards` data object is a list of dictionaries with the following fields:\n",
    "\n",
    "* **id**: A unique ID for each paragraph.\n",
    "* **claim**: The skeptical \"claim\" associated with the paragraph\n",
    "* **processed_text**: The pre-processed text content of each paragraph (lowercase and simple stopword removal).\n",
    "\n",
    "The **claim** variable consists of the following \"classes\":\n",
    "\n",
    "* 0 = No claim\n",
    "* 1 = It's not happening\n",
    "* 2 = It's not us\n",
    "* 3 = It won't be bad and could be beneficial\n",
    "* 4 = Climate solutions won't work\n",
    "* 5 = Climate science is unreliable\n",
    "\n",
    "Here's an example of the what the data looks like:"
   ]
  },
  {
   "cell_type": "code",
   "execution_count": null,
   "metadata": {},
   "outputs": [],
   "source": [
    "print(cards[0])"
   ]
  },
  {
   "cell_type": "markdown",
   "metadata": {},
   "source": [
    "Next, we get our data ready for `sklearn`:"
   ]
  },
  {
   "cell_type": "code",
   "execution_count": null,
   "metadata": {},
   "outputs": [],
   "source": [
    "# Parse text and classes\n",
    "texts = [row['processed_text'] for row in cards]\n",
    "claims = [row['claim'] for row in cards]\n",
    "\n",
    "# Vectorize. Let's use TF-IDF weighting:\n",
    "vectorizer = TfidfVectorizer()\n",
    "X = vectorizer.fit_transform(texts)\n",
    "\n",
    "# And get the label (or class) data in a format sklearn likes:\n",
    "y = np.array(claims)"
   ]
  },
  {
   "cell_type": "markdown",
   "metadata": {},
   "source": [
    "Split into testing and training sets for evaluation:"
   ]
  },
  {
   "cell_type": "code",
   "execution_count": null,
   "metadata": {},
   "outputs": [],
   "source": [
    "X_train, X_test, y_train, y_test = train_test_split(X, y, test_size=0.30, random_state=1234)"
   ]
  },
  {
   "cell_type": "markdown",
   "metadata": {},
   "source": [
    "## One-vs-rest classification\n",
    "\n",
    "There are two primary ways to do multi-class (and multi-label) classification: **one-vs-rest** and **one-vs-one** classification. Let's start with the former. In a nutshell, one-vs-rest classification fits a **binary classifier** to each class (for us, class = 0, class = 1 ... class = 5), treating the class of interest as a 1 and everything else as a zero. The prediction is carried out by simply choosing the class with the highest predicted probability.\n",
    "\n",
    "We can carryout this process for **any classifer** in `sklearn` by using the `OneVsRestClassifier()` class:"
   ]
  },
  {
   "cell_type": "code",
   "execution_count": null,
   "metadata": {},
   "outputs": [],
   "source": [
    "from sklearn.multiclass import OneVsRestClassifier\n",
    "\n",
    "# Initialize 1 v rest classifer using a\n",
    "# linear SVC\n",
    "clf=OneVsRestClassifier(LinearSVC())\n",
    "\n",
    "# Fit the training data\n",
    "clf_fit = clf.fit(X_train, y_train)\n",
    "\n",
    "# Predict the new classes\n",
    "y_predict_1vrest = clf_fit.predict(X_test)\n",
    "\n",
    "print('Here are the first 10 predictions:')\n",
    "print(y_predict_1vrest[0:10])"
   ]
  },
  {
   "cell_type": "markdown",
   "metadata": {},
   "source": [
    "## One-vs-one classification\n",
    "\n",
    "The second option is to train a **one-vs-one** classifer. Here, we train binary classifer for each \"pair\" of classes (e.g., class 0 vs. class 5) and choose the \"predicted\" class by majority voting (i.e., the class that is predicted the most in all of the pairwise comparisons).\n",
    "\n",
    "In `sklearn`, we use the `OneVsOneClassifer` class to do this sort of classification:"
   ]
  },
  {
   "cell_type": "code",
   "execution_count": null,
   "metadata": {},
   "outputs": [],
   "source": [
    "from sklearn.multiclass import OneVsOneClassifier\n",
    "\n",
    "# Initialize 1 v rest classifer using a\n",
    "# linear SVC\n",
    "clf=OneVsOneClassifier(LinearSVC())\n",
    "\n",
    "# Fit the training data\n",
    "clf_fit = clf.fit(X_train, y_train)\n",
    "\n",
    "# Predict the new classes\n",
    "y_predict_1v1 = clf_fit.predict(X_test)\n",
    "\n",
    "print('Here are the first 10 predictions:')\n",
    "print(y_predict_1v1[0:10])"
   ]
  },
  {
   "cell_type": "markdown",
   "metadata": {},
   "source": [
    "## Model performance for multiclass problems\n",
    "\n",
    "We check performance in a very similar way as well. Let's start by looking at the **F1 score** for each class:"
   ]
  },
  {
   "cell_type": "code",
   "execution_count": null,
   "metadata": {},
   "outputs": [],
   "source": [
    "print(\"OneVRest: F1 score for each class = \")\n",
    "print(f1_score(y_test, y_predict_1vrest, average = None))\n",
    "\n",
    "print(\"\\nOneVOne: F1 score for each class = \")\n",
    "print(f1_score(y_test, y_predict_1v1, average = None))"
   ]
  },
  {
   "cell_type": "markdown",
   "metadata": {},
   "source": [
    "The one major difference between binary and multi-class performance evaluation centers on the `average` parameter -- i.e., to get overall model performance we need to average in some way. How should we take this average? There are two options: **micro-averaging** and **macro-averaging**. In `sklearn`:"
   ]
  },
  {
   "cell_type": "code",
   "execution_count": null,
   "metadata": {},
   "outputs": [],
   "source": [
    "print(\"OneVRest: macro-averaged F1 score for each class = \")\n",
    "print(f1_score(y_test, y_predict_1vrest, average = 'macro'))\n",
    "\n",
    "print(\"\\nOneVRest: micro-averaged F1 score for each class = \")\n",
    "print(f1_score(y_test, y_predict_1vrest, average = 'micro'))"
   ]
  },
  {
   "cell_type": "markdown",
   "metadata": {},
   "source": [
    "Wow, that is quite a bit of difference between the two averages! What's going on here? Answer: **class imbalance**"
   ]
  },
  {
   "cell_type": "markdown",
   "metadata": {},
   "source": [
    "## Class imbalance\n",
    "\n",
    "Why is the performance so bad for the above model? Why are the macro and micro averages so different? One reason is class imbalance. Let's look at the frequency of the various classes in our dataset:"
   ]
  },
  {
   "cell_type": "code",
   "execution_count": null,
   "metadata": {},
   "outputs": [],
   "source": [
    "def get_freq(obj):\n",
    "    unique, counts = np.unique(obj, return_counts=True)\n",
    "    print(np.asarray((unique, counts)).T)\n",
    "    return unique, counts\n",
    "\n",
    "print(get_freq(y))"
   ]
  },
  {
   "cell_type": "markdown",
   "metadata": {},
   "source": [
    "The \"no claim\" (0) class is far more frequent then the other classes. This is an example of imbalanced classes, which is a major headache for using supervised learning algorithms in practice. What can we do?\n",
    "\n",
    "One potential solution that could help is **weighting**. This solution is easy to implement in sklearn:"
   ]
  },
  {
   "cell_type": "code",
   "execution_count": null,
   "metadata": {},
   "outputs": [],
   "source": [
    "# Force a more balanced class weighting\n",
    "clf=OneVsRestClassifier(LinearSVC(class_weight='balanced'))\n",
    "\n",
    "# Fit the training data\n",
    "clf_fit = clf.fit(X_train, y_train)\n",
    "\n",
    "# Predict the new classes\n",
    "y_predict_1vrest = clf_fit.predict(X_test)\n",
    "\n",
    "print(\"Per-class F1 score = \")\n",
    "print(f1_score(y_test, y_predict_1vrest, average = None))\n",
    "\n",
    "print(\"\\nOneVRest: macro-averaged F1 score for each class = \")\n",
    "print(f1_score(y_test, y_predict_1vrest, average = 'macro'))\n",
    "\n",
    "print(\"\\nOneVRest: micro-averaged F1 score for each class = \")\n",
    "print(f1_score(y_test, y_predict_1vrest, average = 'micro'))"
   ]
  },
  {
   "cell_type": "markdown",
   "metadata": {},
   "source": [
    "There are many other ways (aside from weighting) that you can approach the class imbalance problem. While we do not have time to look at all the available solutions, many options are available in the imbalanced-learn library in Python (see http://contrib.scikit-learn.org/imbalanced-learn/stable/)."
   ]
  }
 ],
 "metadata": {
  "kernelspec": {
   "display_name": "Python 3 (ipykernel)",
   "language": "python",
   "name": "python3"
  },
  "language_info": {
   "codemirror_mode": {
    "name": "ipython",
    "version": 3
   },
   "file_extension": ".py",
   "mimetype": "text/x-python",
   "name": "python",
   "nbconvert_exporter": "python",
   "pygments_lexer": "ipython3",
   "version": "3.9.13"
  },
  "vscode": {
   "interpreter": {
    "hash": "0db7a017d97a45ffea759374b98e80b051fa13973580c065a6b8f6e28c7ab80d"
   }
  }
 },
 "nbformat": 4,
 "nbformat_minor": 2
}
